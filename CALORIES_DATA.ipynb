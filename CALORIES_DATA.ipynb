{
  "nbformat": 4,
  "nbformat_minor": 0,
  "metadata": {
    "colab": {
      "provenance": []
    },
    "kernelspec": {
      "name": "python3",
      "display_name": "Python 3"
    },
    "language_info": {
      "name": "python"
    }
  },
  "cells": [
    {
      "cell_type": "markdown",
      "source": [
        "#**SIMPLE LINEAR REGRESSION**"
      ],
      "metadata": {
        "id": "Dp0XaJ6nQGva"
      }
    },
    {
      "cell_type": "code",
      "execution_count": 160,
      "metadata": {
        "id": "kqyUZSSPoHDh"
      },
      "outputs": [],
      "source": [
        "import pandas as pd\n",
        "import numpy as np\n",
        "import matplotlib.pyplot as plt\n",
        "import seaborn as sns"
      ]
    },
    {
      "cell_type": "markdown",
      "source": [
        "#IMPORT DATASET"
      ],
      "metadata": {
        "id": "7FX4K-6kQkna"
      }
    },
    {
      "cell_type": "code",
      "source": [
        "data=pd.read_csv(r\"/content/calories_consumed.csv\")\n",
        "data"
      ],
      "metadata": {
        "colab": {
          "base_uri": "https://localhost:8080/",
          "height": 488
        },
        "id": "1UP9iXIpQoB3",
        "outputId": "3c6b1ee5-15c1-4301-d9d0-e5fdbdfaad65"
      },
      "execution_count": 161,
      "outputs": [
        {
          "output_type": "execute_result",
          "data": {
            "text/plain": [
              "    Weight gained (grams)  Calories Consumed\n",
              "0                     108               1500\n",
              "1                     200               2300\n",
              "2                     900               3400\n",
              "3                     200               2200\n",
              "4                     300               2500\n",
              "5                     110               1600\n",
              "6                     128               1400\n",
              "7                      62               1900\n",
              "8                     600               2800\n",
              "9                    1100               3900\n",
              "10                    100               1670\n",
              "11                    150               1900\n",
              "12                    350               2700\n",
              "13                    700               3000"
            ],
            "text/html": [
              "\n",
              "  <div id=\"df-2378abbb-4218-46b6-9c75-e61ef92ea747\">\n",
              "    <div class=\"colab-df-container\">\n",
              "      <div>\n",
              "<style scoped>\n",
              "    .dataframe tbody tr th:only-of-type {\n",
              "        vertical-align: middle;\n",
              "    }\n",
              "\n",
              "    .dataframe tbody tr th {\n",
              "        vertical-align: top;\n",
              "    }\n",
              "\n",
              "    .dataframe thead th {\n",
              "        text-align: right;\n",
              "    }\n",
              "</style>\n",
              "<table border=\"1\" class=\"dataframe\">\n",
              "  <thead>\n",
              "    <tr style=\"text-align: right;\">\n",
              "      <th></th>\n",
              "      <th>Weight gained (grams)</th>\n",
              "      <th>Calories Consumed</th>\n",
              "    </tr>\n",
              "  </thead>\n",
              "  <tbody>\n",
              "    <tr>\n",
              "      <th>0</th>\n",
              "      <td>108</td>\n",
              "      <td>1500</td>\n",
              "    </tr>\n",
              "    <tr>\n",
              "      <th>1</th>\n",
              "      <td>200</td>\n",
              "      <td>2300</td>\n",
              "    </tr>\n",
              "    <tr>\n",
              "      <th>2</th>\n",
              "      <td>900</td>\n",
              "      <td>3400</td>\n",
              "    </tr>\n",
              "    <tr>\n",
              "      <th>3</th>\n",
              "      <td>200</td>\n",
              "      <td>2200</td>\n",
              "    </tr>\n",
              "    <tr>\n",
              "      <th>4</th>\n",
              "      <td>300</td>\n",
              "      <td>2500</td>\n",
              "    </tr>\n",
              "    <tr>\n",
              "      <th>5</th>\n",
              "      <td>110</td>\n",
              "      <td>1600</td>\n",
              "    </tr>\n",
              "    <tr>\n",
              "      <th>6</th>\n",
              "      <td>128</td>\n",
              "      <td>1400</td>\n",
              "    </tr>\n",
              "    <tr>\n",
              "      <th>7</th>\n",
              "      <td>62</td>\n",
              "      <td>1900</td>\n",
              "    </tr>\n",
              "    <tr>\n",
              "      <th>8</th>\n",
              "      <td>600</td>\n",
              "      <td>2800</td>\n",
              "    </tr>\n",
              "    <tr>\n",
              "      <th>9</th>\n",
              "      <td>1100</td>\n",
              "      <td>3900</td>\n",
              "    </tr>\n",
              "    <tr>\n",
              "      <th>10</th>\n",
              "      <td>100</td>\n",
              "      <td>1670</td>\n",
              "    </tr>\n",
              "    <tr>\n",
              "      <th>11</th>\n",
              "      <td>150</td>\n",
              "      <td>1900</td>\n",
              "    </tr>\n",
              "    <tr>\n",
              "      <th>12</th>\n",
              "      <td>350</td>\n",
              "      <td>2700</td>\n",
              "    </tr>\n",
              "    <tr>\n",
              "      <th>13</th>\n",
              "      <td>700</td>\n",
              "      <td>3000</td>\n",
              "    </tr>\n",
              "  </tbody>\n",
              "</table>\n",
              "</div>\n",
              "      <button class=\"colab-df-convert\" onclick=\"convertToInteractive('df-2378abbb-4218-46b6-9c75-e61ef92ea747')\"\n",
              "              title=\"Convert this dataframe to an interactive table.\"\n",
              "              style=\"display:none;\">\n",
              "        \n",
              "  <svg xmlns=\"http://www.w3.org/2000/svg\" height=\"24px\"viewBox=\"0 0 24 24\"\n",
              "       width=\"24px\">\n",
              "    <path d=\"M0 0h24v24H0V0z\" fill=\"none\"/>\n",
              "    <path d=\"M18.56 5.44l.94 2.06.94-2.06 2.06-.94-2.06-.94-.94-2.06-.94 2.06-2.06.94zm-11 1L8.5 8.5l.94-2.06 2.06-.94-2.06-.94L8.5 2.5l-.94 2.06-2.06.94zm10 10l.94 2.06.94-2.06 2.06-.94-2.06-.94-.94-2.06-.94 2.06-2.06.94z\"/><path d=\"M17.41 7.96l-1.37-1.37c-.4-.4-.92-.59-1.43-.59-.52 0-1.04.2-1.43.59L10.3 9.45l-7.72 7.72c-.78.78-.78 2.05 0 2.83L4 21.41c.39.39.9.59 1.41.59.51 0 1.02-.2 1.41-.59l7.78-7.78 2.81-2.81c.8-.78.8-2.07 0-2.86zM5.41 20L4 18.59l7.72-7.72 1.47 1.35L5.41 20z\"/>\n",
              "  </svg>\n",
              "      </button>\n",
              "      \n",
              "  <style>\n",
              "    .colab-df-container {\n",
              "      display:flex;\n",
              "      flex-wrap:wrap;\n",
              "      gap: 12px;\n",
              "    }\n",
              "\n",
              "    .colab-df-convert {\n",
              "      background-color: #E8F0FE;\n",
              "      border: none;\n",
              "      border-radius: 50%;\n",
              "      cursor: pointer;\n",
              "      display: none;\n",
              "      fill: #1967D2;\n",
              "      height: 32px;\n",
              "      padding: 0 0 0 0;\n",
              "      width: 32px;\n",
              "    }\n",
              "\n",
              "    .colab-df-convert:hover {\n",
              "      background-color: #E2EBFA;\n",
              "      box-shadow: 0px 1px 2px rgba(60, 64, 67, 0.3), 0px 1px 3px 1px rgba(60, 64, 67, 0.15);\n",
              "      fill: #174EA6;\n",
              "    }\n",
              "\n",
              "    [theme=dark] .colab-df-convert {\n",
              "      background-color: #3B4455;\n",
              "      fill: #D2E3FC;\n",
              "    }\n",
              "\n",
              "    [theme=dark] .colab-df-convert:hover {\n",
              "      background-color: #434B5C;\n",
              "      box-shadow: 0px 1px 3px 1px rgba(0, 0, 0, 0.15);\n",
              "      filter: drop-shadow(0px 1px 2px rgba(0, 0, 0, 0.3));\n",
              "      fill: #FFFFFF;\n",
              "    }\n",
              "  </style>\n",
              "\n",
              "      <script>\n",
              "        const buttonEl =\n",
              "          document.querySelector('#df-2378abbb-4218-46b6-9c75-e61ef92ea747 button.colab-df-convert');\n",
              "        buttonEl.style.display =\n",
              "          google.colab.kernel.accessAllowed ? 'block' : 'none';\n",
              "\n",
              "        async function convertToInteractive(key) {\n",
              "          const element = document.querySelector('#df-2378abbb-4218-46b6-9c75-e61ef92ea747');\n",
              "          const dataTable =\n",
              "            await google.colab.kernel.invokeFunction('convertToInteractive',\n",
              "                                                     [key], {});\n",
              "          if (!dataTable) return;\n",
              "\n",
              "          const docLinkHtml = 'Like what you see? Visit the ' +\n",
              "            '<a target=\"_blank\" href=https://colab.research.google.com/notebooks/data_table.ipynb>data table notebook</a>'\n",
              "            + ' to learn more about interactive tables.';\n",
              "          element.innerHTML = '';\n",
              "          dataTable['output_type'] = 'display_data';\n",
              "          await google.colab.output.renderOutput(dataTable, element);\n",
              "          const docLink = document.createElement('div');\n",
              "          docLink.innerHTML = docLinkHtml;\n",
              "          element.appendChild(docLink);\n",
              "        }\n",
              "      </script>\n",
              "    </div>\n",
              "  </div>\n",
              "  "
            ]
          },
          "metadata": {},
          "execution_count": 161
        }
      ]
    },
    {
      "cell_type": "code",
      "source": [
        "from sklearn import preprocessing\n",
        "data = preprocessing.normalize(data)\n",
        "data=pd.DataFrame(data)\n",
        "data=data.rename(columns={0:\"Weight gained (grams)\",1:\"Calories Consumed\"})\n",
        "data"
      ],
      "metadata": {
        "colab": {
          "base_uri": "https://localhost:8080/",
          "height": 488
        },
        "id": "Vb4v7-WxrXG8",
        "outputId": "ccfcf0b9-a294-475e-889a-e763cecc18a5"
      },
      "execution_count": 162,
      "outputs": [
        {
          "output_type": "execute_result",
          "data": {
            "text/plain": [
              "    Weight gained (grams)  Calories Consumed\n",
              "0                0.071814           0.997418\n",
              "1                0.086630           0.996241\n",
              "2                0.255893           0.966705\n",
              "3                0.090536           0.995893\n",
              "4                0.119145           0.992877\n",
              "5                0.068588           0.997645\n",
              "6                0.091049           0.995846\n",
              "7                0.032614           0.999468\n",
              "8                0.209529           0.977802\n",
              "9                0.271460           0.962450\n",
              "10               0.059773           0.998212\n",
              "11               0.078702           0.996898\n",
              "12               0.128554           0.991703\n",
              "13               0.227230           0.973841"
            ],
            "text/html": [
              "\n",
              "  <div id=\"df-45fa3713-fb04-47d6-93f3-2a1e82ac8db6\">\n",
              "    <div class=\"colab-df-container\">\n",
              "      <div>\n",
              "<style scoped>\n",
              "    .dataframe tbody tr th:only-of-type {\n",
              "        vertical-align: middle;\n",
              "    }\n",
              "\n",
              "    .dataframe tbody tr th {\n",
              "        vertical-align: top;\n",
              "    }\n",
              "\n",
              "    .dataframe thead th {\n",
              "        text-align: right;\n",
              "    }\n",
              "</style>\n",
              "<table border=\"1\" class=\"dataframe\">\n",
              "  <thead>\n",
              "    <tr style=\"text-align: right;\">\n",
              "      <th></th>\n",
              "      <th>Weight gained (grams)</th>\n",
              "      <th>Calories Consumed</th>\n",
              "    </tr>\n",
              "  </thead>\n",
              "  <tbody>\n",
              "    <tr>\n",
              "      <th>0</th>\n",
              "      <td>0.071814</td>\n",
              "      <td>0.997418</td>\n",
              "    </tr>\n",
              "    <tr>\n",
              "      <th>1</th>\n",
              "      <td>0.086630</td>\n",
              "      <td>0.996241</td>\n",
              "    </tr>\n",
              "    <tr>\n",
              "      <th>2</th>\n",
              "      <td>0.255893</td>\n",
              "      <td>0.966705</td>\n",
              "    </tr>\n",
              "    <tr>\n",
              "      <th>3</th>\n",
              "      <td>0.090536</td>\n",
              "      <td>0.995893</td>\n",
              "    </tr>\n",
              "    <tr>\n",
              "      <th>4</th>\n",
              "      <td>0.119145</td>\n",
              "      <td>0.992877</td>\n",
              "    </tr>\n",
              "    <tr>\n",
              "      <th>5</th>\n",
              "      <td>0.068588</td>\n",
              "      <td>0.997645</td>\n",
              "    </tr>\n",
              "    <tr>\n",
              "      <th>6</th>\n",
              "      <td>0.091049</td>\n",
              "      <td>0.995846</td>\n",
              "    </tr>\n",
              "    <tr>\n",
              "      <th>7</th>\n",
              "      <td>0.032614</td>\n",
              "      <td>0.999468</td>\n",
              "    </tr>\n",
              "    <tr>\n",
              "      <th>8</th>\n",
              "      <td>0.209529</td>\n",
              "      <td>0.977802</td>\n",
              "    </tr>\n",
              "    <tr>\n",
              "      <th>9</th>\n",
              "      <td>0.271460</td>\n",
              "      <td>0.962450</td>\n",
              "    </tr>\n",
              "    <tr>\n",
              "      <th>10</th>\n",
              "      <td>0.059773</td>\n",
              "      <td>0.998212</td>\n",
              "    </tr>\n",
              "    <tr>\n",
              "      <th>11</th>\n",
              "      <td>0.078702</td>\n",
              "      <td>0.996898</td>\n",
              "    </tr>\n",
              "    <tr>\n",
              "      <th>12</th>\n",
              "      <td>0.128554</td>\n",
              "      <td>0.991703</td>\n",
              "    </tr>\n",
              "    <tr>\n",
              "      <th>13</th>\n",
              "      <td>0.227230</td>\n",
              "      <td>0.973841</td>\n",
              "    </tr>\n",
              "  </tbody>\n",
              "</table>\n",
              "</div>\n",
              "      <button class=\"colab-df-convert\" onclick=\"convertToInteractive('df-45fa3713-fb04-47d6-93f3-2a1e82ac8db6')\"\n",
              "              title=\"Convert this dataframe to an interactive table.\"\n",
              "              style=\"display:none;\">\n",
              "        \n",
              "  <svg xmlns=\"http://www.w3.org/2000/svg\" height=\"24px\"viewBox=\"0 0 24 24\"\n",
              "       width=\"24px\">\n",
              "    <path d=\"M0 0h24v24H0V0z\" fill=\"none\"/>\n",
              "    <path d=\"M18.56 5.44l.94 2.06.94-2.06 2.06-.94-2.06-.94-.94-2.06-.94 2.06-2.06.94zm-11 1L8.5 8.5l.94-2.06 2.06-.94-2.06-.94L8.5 2.5l-.94 2.06-2.06.94zm10 10l.94 2.06.94-2.06 2.06-.94-2.06-.94-.94-2.06-.94 2.06-2.06.94z\"/><path d=\"M17.41 7.96l-1.37-1.37c-.4-.4-.92-.59-1.43-.59-.52 0-1.04.2-1.43.59L10.3 9.45l-7.72 7.72c-.78.78-.78 2.05 0 2.83L4 21.41c.39.39.9.59 1.41.59.51 0 1.02-.2 1.41-.59l7.78-7.78 2.81-2.81c.8-.78.8-2.07 0-2.86zM5.41 20L4 18.59l7.72-7.72 1.47 1.35L5.41 20z\"/>\n",
              "  </svg>\n",
              "      </button>\n",
              "      \n",
              "  <style>\n",
              "    .colab-df-container {\n",
              "      display:flex;\n",
              "      flex-wrap:wrap;\n",
              "      gap: 12px;\n",
              "    }\n",
              "\n",
              "    .colab-df-convert {\n",
              "      background-color: #E8F0FE;\n",
              "      border: none;\n",
              "      border-radius: 50%;\n",
              "      cursor: pointer;\n",
              "      display: none;\n",
              "      fill: #1967D2;\n",
              "      height: 32px;\n",
              "      padding: 0 0 0 0;\n",
              "      width: 32px;\n",
              "    }\n",
              "\n",
              "    .colab-df-convert:hover {\n",
              "      background-color: #E2EBFA;\n",
              "      box-shadow: 0px 1px 2px rgba(60, 64, 67, 0.3), 0px 1px 3px 1px rgba(60, 64, 67, 0.15);\n",
              "      fill: #174EA6;\n",
              "    }\n",
              "\n",
              "    [theme=dark] .colab-df-convert {\n",
              "      background-color: #3B4455;\n",
              "      fill: #D2E3FC;\n",
              "    }\n",
              "\n",
              "    [theme=dark] .colab-df-convert:hover {\n",
              "      background-color: #434B5C;\n",
              "      box-shadow: 0px 1px 3px 1px rgba(0, 0, 0, 0.15);\n",
              "      filter: drop-shadow(0px 1px 2px rgba(0, 0, 0, 0.3));\n",
              "      fill: #FFFFFF;\n",
              "    }\n",
              "  </style>\n",
              "\n",
              "      <script>\n",
              "        const buttonEl =\n",
              "          document.querySelector('#df-45fa3713-fb04-47d6-93f3-2a1e82ac8db6 button.colab-df-convert');\n",
              "        buttonEl.style.display =\n",
              "          google.colab.kernel.accessAllowed ? 'block' : 'none';\n",
              "\n",
              "        async function convertToInteractive(key) {\n",
              "          const element = document.querySelector('#df-45fa3713-fb04-47d6-93f3-2a1e82ac8db6');\n",
              "          const dataTable =\n",
              "            await google.colab.kernel.invokeFunction('convertToInteractive',\n",
              "                                                     [key], {});\n",
              "          if (!dataTable) return;\n",
              "\n",
              "          const docLinkHtml = 'Like what you see? Visit the ' +\n",
              "            '<a target=\"_blank\" href=https://colab.research.google.com/notebooks/data_table.ipynb>data table notebook</a>'\n",
              "            + ' to learn more about interactive tables.';\n",
              "          element.innerHTML = '';\n",
              "          dataTable['output_type'] = 'display_data';\n",
              "          await google.colab.output.renderOutput(dataTable, element);\n",
              "          const docLink = document.createElement('div');\n",
              "          docLink.innerHTML = docLinkHtml;\n",
              "          element.appendChild(docLink);\n",
              "        }\n",
              "      </script>\n",
              "    </div>\n",
              "  </div>\n",
              "  "
            ]
          },
          "metadata": {},
          "execution_count": 162
        }
      ]
    },
    {
      "cell_type": "code",
      "source": [
        "data.info()"
      ],
      "metadata": {
        "colab": {
          "base_uri": "https://localhost:8080/"
        },
        "id": "Q5RHnz2tRTkE",
        "outputId": "bc0bb6f7-7212-48c0-f065-1660d6796f9c"
      },
      "execution_count": 163,
      "outputs": [
        {
          "output_type": "stream",
          "name": "stdout",
          "text": [
            "<class 'pandas.core.frame.DataFrame'>\n",
            "RangeIndex: 14 entries, 0 to 13\n",
            "Data columns (total 2 columns):\n",
            " #   Column                 Non-Null Count  Dtype  \n",
            "---  ------                 --------------  -----  \n",
            " 0   Weight gained (grams)  14 non-null     float64\n",
            " 1   Calories Consumed      14 non-null     float64\n",
            "dtypes: float64(2)\n",
            "memory usage: 352.0 bytes\n"
          ]
        }
      ]
    },
    {
      "cell_type": "code",
      "source": [
        "data=data.rename(columns={\"Weight gained (grams)\":\"Weight_gained_grams\",\"Calories Consumed\":\"Calories_Consumed\"})"
      ],
      "metadata": {
        "id": "6zStrhocRiRG"
      },
      "execution_count": 164,
      "outputs": []
    },
    {
      "cell_type": "markdown",
      "source": [
        "#lets draw some visualisation"
      ],
      "metadata": {
        "id": "BQ8BHT88R6NJ"
      }
    },
    {
      "cell_type": "code",
      "source": [
        "sns.boxplot(data[\"Weight_gained_grams\"])"
      ],
      "metadata": {
        "colab": {
          "base_uri": "https://localhost:8080/",
          "height": 352
        },
        "id": "v-R7RPqOR53n",
        "outputId": "3e4860fd-19d3-4a7a-de2c-528b202933ae"
      },
      "execution_count": 165,
      "outputs": [
        {
          "output_type": "stream",
          "name": "stderr",
          "text": [
            "/usr/local/lib/python3.7/dist-packages/seaborn/_decorators.py:43: FutureWarning: Pass the following variable as a keyword arg: x. From version 0.12, the only valid positional argument will be `data`, and passing other arguments without an explicit keyword will result in an error or misinterpretation.\n",
            "  FutureWarning\n"
          ]
        },
        {
          "output_type": "execute_result",
          "data": {
            "text/plain": [
              "<matplotlib.axes._subplots.AxesSubplot at 0x7f17e09df910>"
            ]
          },
          "metadata": {},
          "execution_count": 165
        },
        {
          "output_type": "display_data",
          "data": {
            "text/plain": [
              "<Figure size 432x288 with 1 Axes>"
            ],
            "image/png": "[encoded data removed]"
          },
          "metadata": {
            "needs_background": "light"
          }
        }
      ]
    },
    {
      "cell_type": "code",
      "source": [
        "sns.boxplot(data['Calories_Consumed'])"
      ],
      "metadata": {
        "colab": {
          "base_uri": "https://localhost:8080/",
          "height": 352
        },
        "id": "ovxQK2L1SHKY",
        "outputId": "a8b9938c-c7a0-48a7-ac94-d9a8ee86113e"
      },
      "execution_count": 166,
      "outputs": [
        {
          "output_type": "stream",
          "name": "stderr",
          "text": [
            "/usr/local/lib/python3.7/dist-packages/seaborn/_decorators.py:43: FutureWarning: Pass the following variable as a keyword arg: x. From version 0.12, the only valid positional argument will be `data`, and passing other arguments without an explicit keyword will result in an error or misinterpretation.\n",
            "  FutureWarning\n"
          ]
        },
        {
          "output_type": "execute_result",
          "data": {
            "text/plain": [
              "<matplotlib.axes._subplots.AxesSubplot at 0x7f17e0778910>"
            ]
          },
          "metadata": {},
          "execution_count": 166
        },
        {
          "output_type": "display_data",
          "data": {
            "text/plain": [
              "<Figure size 432x288 with 1 Axes>"
            ],
            "image/png": "[encoded data removed]"
          },
          "metadata": {
            "needs_background": "light"
          }
        }
      ]
    },
    {
      "cell_type": "code",
      "source": [
        "sns.distplot(data[\"Weight_gained_grams\"])"
      ],
      "metadata": {
        "colab": {
          "base_uri": "https://localhost:8080/",
          "height": 352
        },
        "id": "HGhdHP88d36R",
        "outputId": "0a845d07-1a1e-469b-a2c7-8b7389cf41a7"
      },
      "execution_count": 167,
      "outputs": [
        {
          "output_type": "stream",
          "name": "stderr",
          "text": [
            "/usr/local/lib/python3.7/dist-packages/seaborn/distributions.py:2619: FutureWarning: `distplot` is a deprecated function and will be removed in a future version. Please adapt your code to use either `displot` (a figure-level function with similar flexibility) or `histplot` (an axes-level function for histograms).\n",
            "  warnings.warn(msg, FutureWarning)\n"
          ]
        },
        {
          "output_type": "execute_result",
          "data": {
            "text/plain": [
              "<matplotlib.axes._subplots.AxesSubplot at 0x7f17e06fa810>"
            ]
          },
          "metadata": {},
          "execution_count": 167
        },
        {
          "output_type": "display_data",
          "data": {
            "text/plain": [
              "<Figure size 432x288 with 1 Axes>"
            ],
            "image/png": "[encoded data removed]"
          },
          "metadata": {
            "needs_background": "light"
          }
        }
      ]
    },
    {
      "cell_type": "code",
      "source": [
        "sns.distplot(data['Calories_Consumed'])"
      ],
      "metadata": {
        "colab": {
          "base_uri": "https://localhost:8080/",
          "height": 353
        },
        "id": "UzptEBxteNnb",
        "outputId": "85f14e9a-2cbd-4cac-e552-de2ed2618ac2"
      },
      "execution_count": 168,
      "outputs": [
        {
          "output_type": "stream",
          "name": "stderr",
          "text": [
            "/usr/local/lib/python3.7/dist-packages/seaborn/distributions.py:2619: FutureWarning: `distplot` is a deprecated function and will be removed in a future version. Please adapt your code to use either `displot` (a figure-level function with similar flexibility) or `histplot` (an axes-level function for histograms).\n",
            "  warnings.warn(msg, FutureWarning)\n"
          ]
        },
        {
          "output_type": "execute_result",
          "data": {
            "text/plain": [
              "<matplotlib.axes._subplots.AxesSubplot at 0x7f17e0683850>"
            ]
          },
          "metadata": {},
          "execution_count": 168
        },
        {
          "output_type": "display_data",
          "data": {
            "text/plain": [
              "<Figure size 432x288 with 1 Axes>"
            ],
            "image/png": "[encoded data removed]"
          },
          "metadata": {
            "needs_background": "light"
          }
        }
      ]
    },
    {
      "cell_type": "code",
      "source": [
        "dataplot = sns.heatmap(data.corr(), annot=True, cmap=\"YlGnBu\")"
      ],
      "metadata": {
        "colab": {
          "base_uri": "https://localhost:8080/",
          "height": 270
        },
        "id": "tCqk6WEeecAl",
        "outputId": "d59c01cd-40ba-43f1-9f58-10c9de475086"
      },
      "execution_count": 169,
      "outputs": [
        {
          "output_type": "display_data",
          "data": {
            "text/plain": [
              "<Figure size 432x288 with 2 Axes>"
            ],
            "image/png": "[encoded data removed]"
          },
          "metadata": {
            "needs_background": "light"
          }
        }
      ]
    },
    {
      "cell_type": "code",
      "source": [
        "import scipy.stats as stats\n",
        "import pylab"
      ],
      "metadata": {
        "id": "0TOygWTjejzQ"
      },
      "execution_count": 170,
      "outputs": []
    },
    {
      "cell_type": "code",
      "source": [
        "stats.probplot(data[\"Weight_gained_grams\"],dist='norm',plot=pylab)"
      ],
      "metadata": {
        "colab": {
          "base_uri": "https://localhost:8080/",
          "height": 416
        },
        "id": "BWTcw3dtepry",
        "outputId": "6260fef8-7d03-46c1-c875-a9a1e49ee031"
      },
      "execution_count": 171,
      "outputs": [
        {
          "output_type": "execute_result",
          "data": {
            "text/plain": [
              "((array([-1.66151682, -1.18948235, -0.88997893, -0.65463235, -0.45108016,\n",
              "         -0.2648058 , -0.08735875,  0.08735875,  0.2648058 ,  0.45108016,\n",
              "          0.65463235,  0.88997893,  1.18948235,  1.66151682]),\n",
              "  array([0.03261422, 0.05977317, 0.0685881 , 0.0718141 , 0.07870249,\n",
              "         0.08662962, 0.09053575, 0.09104882, 0.11914522, 0.12855403,\n",
              "         0.20952909, 0.22722962, 0.25589256, 0.27146017])),\n",
              " (0.07861161063745348, 0.12796549514729616, 0.9315510360670415))"
            ]
          },
          "metadata": {},
          "execution_count": 171
        },
        {
          "output_type": "display_data",
          "data": {
            "text/plain": [
              "<Figure size 432x288 with 1 Axes>"
            ],
            "image/png": "[encoded data removed]"
          },
          "metadata": {
            "needs_background": "light"
          }
        }
      ]
    },
    {
      "cell_type": "code",
      "source": [
        "stats.probplot(data['Calories_Consumed'],dist='norm',plot=pylab)"
      ],
      "metadata": {
        "colab": {
          "base_uri": "https://localhost:8080/",
          "height": 416
        },
        "id": "chQK_idse28R",
        "outputId": "1677ec82-fdd3-4c38-d3ee-25588ac29849"
      },
      "execution_count": 172,
      "outputs": [
        {
          "output_type": "execute_result",
          "data": {
            "text/plain": [
              "((array([-1.66151682, -1.18948235, -0.88997893, -0.65463235, -0.45108016,\n",
              "         -0.2648058 , -0.08735875,  0.08735875,  0.2648058 ,  0.45108016,\n",
              "          0.65463235,  0.88997893,  1.18948235,  1.66151682]),\n",
              "  array([0.96244968, 0.96670523, 0.97384121, 0.97780241, 0.99170251,\n",
              "         0.99287684, 0.99584643, 0.99589321, 0.99624059, 0.99689815,\n",
              "         0.99741803, 0.99764506, 0.99821199, 0.99946801])),\n",
              " (0.011999260677917045, 0.9887856674795555, 0.8764921879698225))"
            ]
          },
          "metadata": {},
          "execution_count": 172
        },
        {
          "output_type": "display_data",
          "data": {
            "text/plain": [
              "<Figure size 432x288 with 1 Axes>"
            ],
            "image/png": "[encoded data removed]"
          },
          "metadata": {
            "needs_background": "light"
          }
        }
      ]
    },
    {
      "cell_type": "markdown",
      "source": [
        "#USING SIMPLE **OLS** METHOD"
      ],
      "metadata": {
        "id": "PiJzOL_Sf_Xq"
      }
    },
    {
      "cell_type": "code",
      "source": [
        "import statsmodels.formula.api as smf"
      ],
      "metadata": {
        "id": "z64rsbzlf-X0"
      },
      "execution_count": 173,
      "outputs": []
    },
    {
      "cell_type": "code",
      "source": [
        "model = smf.ols('Calories_Consumed ~ Weight_gained_grams', data =data).fit()\n",
        "model.summary()"
      ],
      "metadata": {
        "colab": {
          "base_uri": "https://localhost:8080/",
          "height": 498
        },
        "id": "eR727Chqg2UH",
        "outputId": "b0c9088e-90c4-45c9-e572-4d6a8983bf10"
      },
      "execution_count": 174,
      "outputs": [
        {
          "output_type": "stream",
          "name": "stderr",
          "text": [
            "/usr/local/lib/python3.7/dist-packages/scipy/stats/stats.py:1542: UserWarning: kurtosistest only valid for n>=20 ... continuing anyway, n=14\n",
            "  \"anyway, n=%i\" % int(n))\n"
          ]
        },
        {
          "output_type": "execute_result",
          "data": {
            "text/plain": [
              "<class 'statsmodels.iolib.summary.Summary'>\n",
              "\"\"\"\n",
              "                            OLS Regression Results                            \n",
              "==============================================================================\n",
              "Dep. Variable:      Calories_Consumed   R-squared:                       0.971\n",
              "Model:                            OLS   Adj. R-squared:                  0.968\n",
              "Method:                 Least Squares   F-statistic:                     397.2\n",
              "Date:                Wed, 23 Nov 2022   Prob (F-statistic):           1.45e-10\n",
              "Time:                        09:03:54   Log-Likelihood:                 66.382\n",
              "No. Observations:                  14   AIC:                            -128.8\n",
              "Df Residuals:                      12   BIC:                            -127.5\n",
              "Df Model:                           1                                         \n",
              "Covariance Type:            nonrobust                                         \n",
              "=======================================================================================\n",
              "                          coef    std err          t      P>|t|      [0.025      0.975]\n",
              "---------------------------------------------------------------------------------------\n",
              "Intercept               1.0092      0.001    845.583      0.000       1.007       1.012\n",
              "Weight_gained_grams    -0.1598      0.008    -19.931      0.000      -0.177      -0.142\n",
              "==============================================================================\n",
              "Omnibus:                        1.536   Durbin-Watson:                   2.510\n",
              "Prob(Omnibus):                  0.464   Jarque-Bera (JB):                0.986\n",
              "Skew:                          -0.624   Prob(JB):                        0.611\n",
              "Kurtosis:                       2.638   Cond. No.                         13.4\n",
              "==============================================================================\n",
              "\n",
              "Notes:\n",
              "[1] Standard Errors assume that the covariance matrix of the errors is correctly specified.\n",
              "\"\"\""
            ],
            "text/html": [
              "<table class=\"simpletable\">\n",
              "<caption>OLS Regression Results</caption>\n",
              "<tr>\n",
              "  <th>Dep. Variable:</th>    <td>Calories_Consumed</td> <th>  R-squared:         </th> <td>   0.971</td>\n",
              "</tr>\n",
              "<tr>\n",
              "  <th>Model:</th>                   <td>OLS</td>        <th>  Adj. R-squared:    </th> <td>   0.968</td>\n",
              "</tr>\n",
              "<tr>\n",
              "  <th>Method:</th>             <td>Least Squares</td>   <th>  F-statistic:       </th> <td>   397.2</td>\n",
              "</tr>\n",
              "<tr>\n",
              "  <th>Date:</th>             <td>Wed, 23 Nov 2022</td>  <th>  Prob (F-statistic):</th> <td>1.45e-10</td>\n",
              "</tr>\n",
              "<tr>\n",
              "  <th>Time:</th>                 <td>09:03:54</td>      <th>  Log-Likelihood:    </th> <td>  66.382</td>\n",
              "</tr>\n",
              "<tr>\n",
              "  <th>No. Observations:</th>      <td>    14</td>       <th>  AIC:               </th> <td>  -128.8</td>\n",
              "</tr>\n",
              "<tr>\n",
              "  <th>Df Residuals:</th>          <td>    12</td>       <th>  BIC:               </th> <td>  -127.5</td>\n",
              "</tr>\n",
              "<tr>\n",
              "  <th>Df Model:</th>              <td>     1</td>       <th>                     </th>     <td> </td>   \n",
              "</tr>\n",
              "<tr>\n",
              "  <th>Covariance Type:</th>      <td>nonrobust</td>     <th>                     </th>     <td> </td>   \n",
              "</tr>\n",
              "</table>\n",
              "<table class=\"simpletable\">\n",
              "<tr>\n",
              "           <td></td>              <th>coef</th>     <th>std err</th>      <th>t</th>      <th>P>|t|</th>  <th>[0.025</th>    <th>0.975]</th>  \n",
              "</tr>\n",
              "<tr>\n",
              "  <th>Intercept</th>           <td>    1.0092</td> <td>    0.001</td> <td>  845.583</td> <td> 0.000</td> <td>    1.007</td> <td>    1.012</td>\n",
              "</tr>\n",
              "<tr>\n",
              "  <th>Weight_gained_grams</th> <td>   -0.1598</td> <td>    0.008</td> <td>  -19.931</td> <td> 0.000</td> <td>   -0.177</td> <td>   -0.142</td>\n",
              "</tr>\n",
              "</table>\n",
              "<table class=\"simpletable\">\n",
              "<tr>\n",
              "  <th>Omnibus:</th>       <td> 1.536</td> <th>  Durbin-Watson:     </th> <td>   2.510</td>\n",
              "</tr>\n",
              "<tr>\n",
              "  <th>Prob(Omnibus):</th> <td> 0.464</td> <th>  Jarque-Bera (JB):  </th> <td>   0.986</td>\n",
              "</tr>\n",
              "<tr>\n",
              "  <th>Skew:</th>          <td>-0.624</td> <th>  Prob(JB):          </th> <td>   0.611</td>\n",
              "</tr>\n",
              "<tr>\n",
              "  <th>Kurtosis:</th>      <td> 2.638</td> <th>  Cond. No.          </th> <td>    13.4</td>\n",
              "</tr>\n",
              "</table><br/><br/>Notes:<br/>[1] Standard Errors assume that the covariance matrix of the errors is correctly specified."
            ]
          },
          "metadata": {},
          "execution_count": 174
        }
      ]
    },
    {
      "cell_type": "code",
      "source": [
        "pred=model.predict(pd.DataFrame(data['Weight_gained_grams']))\n",
        "pred"
      ],
      "metadata": {
        "colab": {
          "base_uri": "https://localhost:8080/"
        },
        "id": "JploHKdzhzga",
        "outputId": "998b5d2a-9a2f-4552-a00d-22ee9630eb15"
      },
      "execution_count": 175,
      "outputs": [
        {
          "output_type": "execute_result",
          "data": {
            "text/plain": [
              "0     0.997760\n",
              "1     0.995392\n",
              "2     0.968339\n",
              "3     0.994768\n",
              "4     0.990195\n",
              "5     0.998276\n",
              "6     0.994686\n",
              "7     1.004026\n",
              "8     0.975749\n",
              "9     0.965851\n",
              "10    0.999685\n",
              "11    0.996659\n",
              "12    0.988692\n",
              "13    0.972920\n",
              "dtype: float64"
            ]
          },
          "metadata": {},
          "execution_count": 175
        }
      ]
    },
    {
      "cell_type": "markdown",
      "source": [
        "##REGRESSION LINE"
      ],
      "metadata": {
        "id": "vCzQLE9RiOBE"
      }
    },
    {
      "cell_type": "code",
      "source": [
        "plt.scatter(data.Weight_gained_grams,data.Calories_Consumed)\n",
        "plt.plot(data.Weight_gained_grams,pred,color=\"r\")\n",
        "plt.title(\"Simple_regression\")\n",
        "plt.legend(['Predicted line', 'Observed data'])\n",
        "plt.show()"
      ],
      "metadata": {
        "colab": {
          "base_uri": "https://localhost:8080/",
          "height": 281
        },
        "id": "iR0bmZCxiMhu",
        "outputId": "2b5abe0c-f64b-4e56-b746-72d2105e865b"
      },
      "execution_count": 204,
      "outputs": [
        {
          "output_type": "display_data",
          "data": {
            "text/plain": [
              "<Figure size 432x288 with 1 Axes>"
            ],
            "image/png": "[encoded data removed]"
          },
          "metadata": {
            "needs_background": "light"
          }
        }
      ]
    },
    {
      "cell_type": "markdown",
      "source": [
        "##Error calculation of data without normal transformation"
      ],
      "metadata": {
        "id": "b9dhaeuGk2Ty"
      }
    },
    {
      "cell_type": "code",
      "source": [
        "res=data.Calories_Consumed-pred\n",
        "res"
      ],
      "metadata": {
        "colab": {
          "base_uri": "https://localhost:8080/"
        },
        "id": "IK5QZbTYlAq3",
        "outputId": "f68ef952-6f53-40ce-ef64-7f20d85c094a"
      },
      "execution_count": 177,
      "outputs": [
        {
          "output_type": "execute_result",
          "data": {
            "text/plain": [
              "0    -0.000342\n",
              "1     0.000848\n",
              "2    -0.001634\n",
              "3     0.001125\n",
              "4     0.002681\n",
              "5    -0.000631\n",
              "6     0.001160\n",
              "7    -0.004558\n",
              "8     0.002053\n",
              "9    -0.003401\n",
              "10   -0.001473\n",
              "11    0.000239\n",
              "12    0.003011\n",
              "13    0.000921\n",
              "dtype: float64"
            ]
          },
          "metadata": {},
          "execution_count": 177
        }
      ]
    },
    {
      "cell_type": "code",
      "source": [
        "np.mean(res)"
      ],
      "metadata": {
        "colab": {
          "base_uri": "https://localhost:8080/"
        },
        "id": "8AmP9w10lav7",
        "outputId": "542f3f47-6b4f-4be9-ad46-8c7bc30fb3d8"
      },
      "execution_count": 178,
      "outputs": [
        {
          "output_type": "execute_result",
          "data": {
            "text/plain": [
              "-2.3790493384824782e-17"
            ]
          },
          "metadata": {},
          "execution_count": 178
        }
      ]
    },
    {
      "cell_type": "code",
      "source": [
        "res_sqr=res*res\n",
        "mse=np.mean(res_sqr)\n",
        "rmse=np.sqrt(mse)\n",
        "rmse"
      ],
      "metadata": {
        "colab": {
          "base_uri": "https://localhost:8080/"
        },
        "id": "oJkAoFhcluaL",
        "outputId": "b14f3a35-4539-424c-da2e-04f2fbcd0956"
      },
      "execution_count": 179,
      "outputs": [
        {
          "output_type": "execute_result",
          "data": {
            "text/plain": [
              "0.0021112316971886058"
            ]
          },
          "metadata": {},
          "execution_count": 179
        }
      ]
    },
    {
      "cell_type": "markdown",
      "source": [
        "#LOG REGRESSOR OLS METHOD"
      ],
      "metadata": {
        "id": "yWREIEnVmric"
      }
    },
    {
      "cell_type": "code",
      "source": [
        "plt.scatter(x=np.log(data[\"Weight_gained_grams\"]),y=data['Calories_Consumed'],color='brown')"
      ],
      "metadata": {
        "colab": {
          "base_uri": "https://localhost:8080/",
          "height": 282
        },
        "id": "_L0tCDyAmijj",
        "outputId": "9cfdd981-a48f-44d9-f378-bd65c13d8588"
      },
      "execution_count": 180,
      "outputs": [
        {
          "output_type": "execute_result",
          "data": {
            "text/plain": [
              "<matplotlib.collections.PathCollection at 0x7f17e04717d0>"
            ]
          },
          "metadata": {},
          "execution_count": 180
        },
        {
          "output_type": "display_data",
          "data": {
            "text/plain": [
              "<Figure size 432x288 with 1 Axes>"
            ],
            "image/png": "[encoded data removed]"
          },
          "metadata": {
            "needs_background": "light"
          }
        }
      ]
    },
    {
      "cell_type": "code",
      "source": [
        "corr=np.corrcoef(np.log(data.Weight_gained_grams),data.Calories_Consumed)\n",
        "sns.heatmap(corr,annot=True)"
      ],
      "metadata": {
        "colab": {
          "base_uri": "https://localhost:8080/",
          "height": 286
        },
        "id": "92zdp4-knSB-",
        "outputId": "c9ede10e-6f0e-44a3-9071-c80af6453dc8"
      },
      "execution_count": 181,
      "outputs": [
        {
          "output_type": "execute_result",
          "data": {
            "text/plain": [
              "<matplotlib.axes._subplots.AxesSubplot at 0x7f17e03e4650>"
            ]
          },
          "metadata": {},
          "execution_count": 181
        },
        {
          "output_type": "display_data",
          "data": {
            "text/plain": [
              "<Figure size 432x288 with 2 Axes>"
            ],
            "image/png": "[encoded data removed]"
          },
          "metadata": {
            "needs_background": "light"
          }
        }
      ]
    },
    {
      "cell_type": "code",
      "source": [
        "model1=smf.ols(\"Calories_Consumed~np.log(Weight_gained_grams)\",data=data).fit()\n",
        "model1.summary()"
      ],
      "metadata": {
        "colab": {
          "base_uri": "https://localhost:8080/",
          "height": 498
        },
        "id": "95tW5xmzo9fg",
        "outputId": "c81eda6e-899e-4cbe-d1f4-21a4dde35124"
      },
      "execution_count": 182,
      "outputs": [
        {
          "output_type": "stream",
          "name": "stderr",
          "text": [
            "/usr/local/lib/python3.7/dist-packages/scipy/stats/stats.py:1542: UserWarning: kurtosistest only valid for n>=20 ... continuing anyway, n=14\n",
            "  \"anyway, n=%i\" % int(n))\n"
          ]
        },
        {
          "output_type": "execute_result",
          "data": {
            "text/plain": [
              "<class 'statsmodels.iolib.summary.Summary'>\n",
              "\"\"\"\n",
              "                            OLS Regression Results                            \n",
              "==============================================================================\n",
              "Dep. Variable:      Calories_Consumed   R-squared:                       0.821\n",
              "Model:                            OLS   Adj. R-squared:                  0.806\n",
              "Method:                 Least Squares   F-statistic:                     55.08\n",
              "Date:                Wed, 23 Nov 2022   Prob (F-statistic):           8.04e-06\n",
              "Time:                        09:03:55   Log-Likelihood:                 53.723\n",
              "No. Observations:                  14   AIC:                            -103.4\n",
              "Df Residuals:                      12   BIC:                            -102.2\n",
              "Df Model:                           1                                         \n",
              "Covariance Type:            nonrobust                                         \n",
              "===============================================================================================\n",
              "                                  coef    std err          t      P>|t|      [0.025      0.975]\n",
              "-----------------------------------------------------------------------------------------------\n",
              "Intercept                       0.9470      0.006    162.663      0.000       0.934       0.960\n",
              "np.log(Weight_gained_grams)    -0.0187      0.003     -7.421      0.000      -0.024      -0.013\n",
              "==============================================================================\n",
              "Omnibus:                        3.400   Durbin-Watson:                   2.359\n",
              "Prob(Omnibus):                  0.183   Jarque-Bera (JB):                2.059\n",
              "Skew:                          -0.936   Prob(JB):                        0.357\n",
              "Kurtosis:                       2.850   Cond. No.                         10.5\n",
              "==============================================================================\n",
              "\n",
              "Notes:\n",
              "[1] Standard Errors assume that the covariance matrix of the errors is correctly specified.\n",
              "\"\"\""
            ],
            "text/html": [
              "<table class=\"simpletable\">\n",
              "<caption>OLS Regression Results</caption>\n",
              "<tr>\n",
              "  <th>Dep. Variable:</th>    <td>Calories_Consumed</td> <th>  R-squared:         </th> <td>   0.821</td>\n",
              "</tr>\n",
              "<tr>\n",
              "  <th>Model:</th>                   <td>OLS</td>        <th>  Adj. R-squared:    </th> <td>   0.806</td>\n",
              "</tr>\n",
              "<tr>\n",
              "  <th>Method:</th>             <td>Least Squares</td>   <th>  F-statistic:       </th> <td>   55.08</td>\n",
              "</tr>\n",
              "<tr>\n",
              "  <th>Date:</th>             <td>Wed, 23 Nov 2022</td>  <th>  Prob (F-statistic):</th> <td>8.04e-06</td>\n",
              "</tr>\n",
              "<tr>\n",
              "  <th>Time:</th>                 <td>09:03:55</td>      <th>  Log-Likelihood:    </th> <td>  53.723</td>\n",
              "</tr>\n",
              "<tr>\n",
              "  <th>No. Observations:</th>      <td>    14</td>       <th>  AIC:               </th> <td>  -103.4</td>\n",
              "</tr>\n",
              "<tr>\n",
              "  <th>Df Residuals:</th>          <td>    12</td>       <th>  BIC:               </th> <td>  -102.2</td>\n",
              "</tr>\n",
              "<tr>\n",
              "  <th>Df Model:</th>              <td>     1</td>       <th>                     </th>     <td> </td>   \n",
              "</tr>\n",
              "<tr>\n",
              "  <th>Covariance Type:</th>      <td>nonrobust</td>     <th>                     </th>     <td> </td>   \n",
              "</tr>\n",
              "</table>\n",
              "<table class=\"simpletable\">\n",
              "<tr>\n",
              "               <td></td>                  <th>coef</th>     <th>std err</th>      <th>t</th>      <th>P>|t|</th>  <th>[0.025</th>    <th>0.975]</th>  \n",
              "</tr>\n",
              "<tr>\n",
              "  <th>Intercept</th>                   <td>    0.9470</td> <td>    0.006</td> <td>  162.663</td> <td> 0.000</td> <td>    0.934</td> <td>    0.960</td>\n",
              "</tr>\n",
              "<tr>\n",
              "  <th>np.log(Weight_gained_grams)</th> <td>   -0.0187</td> <td>    0.003</td> <td>   -7.421</td> <td> 0.000</td> <td>   -0.024</td> <td>   -0.013</td>\n",
              "</tr>\n",
              "</table>\n",
              "<table class=\"simpletable\">\n",
              "<tr>\n",
              "  <th>Omnibus:</th>       <td> 3.400</td> <th>  Durbin-Watson:     </th> <td>   2.359</td>\n",
              "</tr>\n",
              "<tr>\n",
              "  <th>Prob(Omnibus):</th> <td> 0.183</td> <th>  Jarque-Bera (JB):  </th> <td>   2.059</td>\n",
              "</tr>\n",
              "<tr>\n",
              "  <th>Skew:</th>          <td>-0.936</td> <th>  Prob(JB):          </th> <td>   0.357</td>\n",
              "</tr>\n",
              "<tr>\n",
              "  <th>Kurtosis:</th>      <td> 2.850</td> <th>  Cond. No.          </th> <td>    10.5</td>\n",
              "</tr>\n",
              "</table><br/><br/>Notes:<br/>[1] Standard Errors assume that the covariance matrix of the errors is correctly specified."
            ]
          },
          "metadata": {},
          "execution_count": 182
        }
      ]
    },
    {
      "cell_type": "code",
      "source": [
        "pred1=model1.predict(pd.DataFrame(data['Weight_gained_grams']))\n",
        "pred1"
      ],
      "metadata": {
        "colab": {
          "base_uri": "https://localhost:8080/"
        },
        "id": "8L7raHOQp7yz",
        "outputId": "b158ed18-f4f7-4f59-8cf9-ad353df14d28"
      },
      "execution_count": 185,
      "outputs": [
        {
          "output_type": "execute_result",
          "data": {
            "text/plain": [
              "0     0.996325\n",
              "1     0.992815\n",
              "2     0.972549\n",
              "3     0.991990\n",
              "4     0.986852\n",
              "5     0.997185\n",
              "6     0.991884\n",
              "7     1.011094\n",
              "8     0.976289\n",
              "9     0.971444\n",
              "10    0.999759\n",
              "11    0.994611\n",
              "12    0.985430\n",
              "13    0.974772\n",
              "dtype: float64"
            ]
          },
          "metadata": {},
          "execution_count": 185
        }
      ]
    },
    {
      "cell_type": "markdown",
      "source": [
        "##Regression line for log transformation"
      ],
      "metadata": {
        "id": "oqiTec93vR3I"
      }
    },
    {
      "cell_type": "code",
      "source": [
        "plt.scatter(np.log(data.Weight_gained_grams),data.Calories_Consumed)\n",
        "plt.plot(np.log(data.Weight_gained_grams),pred1,color=\"r\")\n",
        "plt.title(\"LOG REGRESSION\")\n",
        "plt.legend(['Predicted line', 'Observed data'])\n",
        "plt.show()"
      ],
      "metadata": {
        "colab": {
          "base_uri": "https://localhost:8080/",
          "height": 281
        },
        "id": "f6HiaiF5vYK8",
        "outputId": "14489364-d3c8-4423-f44d-e9615f9df299"
      },
      "execution_count": 190,
      "outputs": [
        {
          "output_type": "display_data",
          "data": {
            "text/plain": [
              "<Figure size 432x288 with 1 Axes>"
            ],
            "image/png": "[encoded data removed]"
          },
          "metadata": {
            "needs_background": "light"
          }
        }
      ]
    },
    {
      "cell_type": "markdown",
      "source": [
        "##Error Calculation Log Regression"
      ],
      "metadata": {
        "id": "cJlsesqxxLJT"
      }
    },
    {
      "cell_type": "code",
      "source": [
        "res1=data.Calories_Consumed-pred1\n",
        "res1"
      ],
      "metadata": {
        "colab": {
          "base_uri": "https://localhost:8080/"
        },
        "id": "88-S68ZExGh0",
        "outputId": "ecd81e5d-8e1f-48b4-d737-ee743c3f413d"
      },
      "execution_count": 192,
      "outputs": [
        {
          "output_type": "execute_result",
          "data": {
            "text/plain": [
              "0     0.001093\n",
              "1     0.003425\n",
              "2    -0.005844\n",
              "3     0.003903\n",
              "4     0.006025\n",
              "5     0.000460\n",
              "6     0.003962\n",
              "7    -0.011626\n",
              "8     0.001513\n",
              "9    -0.008995\n",
              "10   -0.001547\n",
              "11    0.002287\n",
              "12    0.006273\n",
              "13   -0.000931\n",
              "dtype: float64"
            ]
          },
          "metadata": {},
          "execution_count": 192
        }
      ]
    },
    {
      "cell_type": "code",
      "source": [
        "res_sqr1=res1*res1\n",
        "mse1=np.mean(res_sqr1)\n",
        "rmse1=np.sqrt(mse1)\n",
        "rmse1\n"
      ],
      "metadata": {
        "colab": {
          "base_uri": "https://localhost:8080/"
        },
        "id": "gykAn2nIxwk6",
        "outputId": "975db1ce-29b8-4bbe-e5d8-240944cb195f"
      },
      "execution_count": 193,
      "outputs": [
        {
          "output_type": "execute_result",
          "data": {
            "text/plain": [
              "0.00521472627515529"
            ]
          },
          "metadata": {},
          "execution_count": 193
        }
      ]
    },
    {
      "cell_type": "markdown",
      "source": [
        "#EXPONENTIAL REGRESSION"
      ],
      "metadata": {
        "id": "tOCjsR2NyPMl"
      }
    },
    {
      "cell_type": "code",
      "source": [
        "plt.scatter(x=data['Weight_gained_grams'],y=np.log(data['Calories_Consumed']))"
      ],
      "metadata": {
        "colab": {
          "base_uri": "https://localhost:8080/",
          "height": 282
        },
        "id": "MMypEy8Dya5n",
        "outputId": "c40fa406-a4ea-4092-b94d-a1b061e7187d"
      },
      "execution_count": 194,
      "outputs": [
        {
          "output_type": "execute_result",
          "data": {
            "text/plain": [
              "<matplotlib.collections.PathCollection at 0x7f17e0377550>"
            ]
          },
          "metadata": {},
          "execution_count": 194
        },
        {
          "output_type": "display_data",
          "data": {
            "text/plain": [
              "<Figure size 432x288 with 1 Axes>"
            ],
            "image/png": "[encoded data removed]"
          },
          "metadata": {
            "needs_background": "light"
          }
        }
      ]
    },
    {
      "cell_type": "code",
      "source": [
        "model2=smf.ols('np.log(Calories_Consumed)~Weight_gained_grams',data=data).fit()\n",
        "model2.summary()"
      ],
      "metadata": {
        "colab": {
          "base_uri": "https://localhost:8080/",
          "height": 498
        },
        "id": "_P_j-x2-0j0v",
        "outputId": "0ca93448-3312-4a5e-e16a-114bf8207d11"
      },
      "execution_count": 200,
      "outputs": [
        {
          "output_type": "stream",
          "name": "stderr",
          "text": [
            "/usr/local/lib/python3.7/dist-packages/scipy/stats/stats.py:1542: UserWarning: kurtosistest only valid for n>=20 ... continuing anyway, n=14\n",
            "  \"anyway, n=%i\" % int(n))\n"
          ]
        },
        {
          "output_type": "execute_result",
          "data": {
            "text/plain": [
              "<class 'statsmodels.iolib.summary.Summary'>\n",
              "\"\"\"\n",
              "                                OLS Regression Results                               \n",
              "=====================================================================================\n",
              "Dep. Variable:     np.log(Calories_Consumed)   R-squared:                       0.970\n",
              "Model:                                   OLS   Adj. R-squared:                  0.967\n",
              "Method:                        Least Squares   F-statistic:                     382.0\n",
              "Date:                       Wed, 23 Nov 2022   Prob (F-statistic):           1.82e-10\n",
              "Time:                               09:43:34   Log-Likelihood:                 65.861\n",
              "No. Observations:                         14   AIC:                            -127.7\n",
              "Df Residuals:                             12   BIC:                            -126.4\n",
              "Df Model:                                  1                                         \n",
              "Covariance Type:                   nonrobust                                         \n",
              "=======================================================================================\n",
              "                          coef    std err          t      P>|t|      [0.025      0.975]\n",
              "---------------------------------------------------------------------------------------\n",
              "Intercept               0.0095      0.001      7.637      0.000       0.007       0.012\n",
              "Weight_gained_grams    -0.1627      0.008    -19.545      0.000      -0.181      -0.145\n",
              "==============================================================================\n",
              "Omnibus:                        1.473   Durbin-Watson:                   2.512\n",
              "Prob(Omnibus):                  0.479   Jarque-Bera (JB):                0.972\n",
              "Skew:                          -0.615   Prob(JB):                        0.615\n",
              "Kurtosis:                       2.607   Cond. No.                         13.4\n",
              "==============================================================================\n",
              "\n",
              "Notes:\n",
              "[1] Standard Errors assume that the covariance matrix of the errors is correctly specified.\n",
              "\"\"\""
            ],
            "text/html": [
              "<table class=\"simpletable\">\n",
              "<caption>OLS Regression Results</caption>\n",
              "<tr>\n",
              "  <th>Dep. Variable:</th>    <td>np.log(Calories_Consumed)</td> <th>  R-squared:         </th> <td>   0.970</td>\n",
              "</tr>\n",
              "<tr>\n",
              "  <th>Model:</th>                       <td>OLS</td>            <th>  Adj. R-squared:    </th> <td>   0.967</td>\n",
              "</tr>\n",
              "<tr>\n",
              "  <th>Method:</th>                 <td>Least Squares</td>       <th>  F-statistic:       </th> <td>   382.0</td>\n",
              "</tr>\n",
              "<tr>\n",
              "  <th>Date:</th>                 <td>Wed, 23 Nov 2022</td>      <th>  Prob (F-statistic):</th> <td>1.82e-10</td>\n",
              "</tr>\n",
              "<tr>\n",
              "  <th>Time:</th>                     <td>09:43:34</td>          <th>  Log-Likelihood:    </th> <td>  65.861</td>\n",
              "</tr>\n",
              "<tr>\n",
              "  <th>No. Observations:</th>          <td>    14</td>           <th>  AIC:               </th> <td>  -127.7</td>\n",
              "</tr>\n",
              "<tr>\n",
              "  <th>Df Residuals:</th>              <td>    12</td>           <th>  BIC:               </th> <td>  -126.4</td>\n",
              "</tr>\n",
              "<tr>\n",
              "  <th>Df Model:</th>                  <td>     1</td>           <th>                     </th>     <td> </td>   \n",
              "</tr>\n",
              "<tr>\n",
              "  <th>Covariance Type:</th>          <td>nonrobust</td>         <th>                     </th>     <td> </td>   \n",
              "</tr>\n",
              "</table>\n",
              "<table class=\"simpletable\">\n",
              "<tr>\n",
              "           <td></td>              <th>coef</th>     <th>std err</th>      <th>t</th>      <th>P>|t|</th>  <th>[0.025</th>    <th>0.975]</th>  \n",
              "</tr>\n",
              "<tr>\n",
              "  <th>Intercept</th>           <td>    0.0095</td> <td>    0.001</td> <td>    7.637</td> <td> 0.000</td> <td>    0.007</td> <td>    0.012</td>\n",
              "</tr>\n",
              "<tr>\n",
              "  <th>Weight_gained_grams</th> <td>   -0.1627</td> <td>    0.008</td> <td>  -19.545</td> <td> 0.000</td> <td>   -0.181</td> <td>   -0.145</td>\n",
              "</tr>\n",
              "</table>\n",
              "<table class=\"simpletable\">\n",
              "<tr>\n",
              "  <th>Omnibus:</th>       <td> 1.473</td> <th>  Durbin-Watson:     </th> <td>   2.512</td>\n",
              "</tr>\n",
              "<tr>\n",
              "  <th>Prob(Omnibus):</th> <td> 0.479</td> <th>  Jarque-Bera (JB):  </th> <td>   0.972</td>\n",
              "</tr>\n",
              "<tr>\n",
              "  <th>Skew:</th>          <td>-0.615</td> <th>  Prob(JB):          </th> <td>   0.615</td>\n",
              "</tr>\n",
              "<tr>\n",
              "  <th>Kurtosis:</th>      <td> 2.607</td> <th>  Cond. No.          </th> <td>    13.4</td>\n",
              "</tr>\n",
              "</table><br/><br/>Notes:<br/>[1] Standard Errors assume that the covariance matrix of the errors is correctly specified."
            ]
          },
          "metadata": {},
          "execution_count": 200
        }
      ]
    },
    {
      "cell_type": "code",
      "source": [
        "pred2=model2.predict(pd.DataFrame(data[\"Weight_gained_grams\"]))\n",
        "pred2_Calories_Consumed=np.exp(pred2)\n",
        "pred2_Calories_Consumed"
      ],
      "metadata": {
        "colab": {
          "base_uri": "https://localhost:8080/"
        },
        "id": "JodiHvcH1bHE",
        "outputId": "67b927ec-0d56-4f9b-ecf6-c586df2e5dd5"
      },
      "execution_count": 201,
      "outputs": [
        {
          "output_type": "execute_result",
          "data": {
            "text/plain": [
              "0     0.997780\n",
              "1     0.995379\n",
              "2     0.968346\n",
              "3     0.994746\n",
              "4     0.990128\n",
              "5     0.998304\n",
              "6     0.994663\n",
              "7     1.004163\n",
              "8     0.975677\n",
              "9     0.965897\n",
              "10    0.999737\n",
              "11    0.996663\n",
              "12    0.988613\n",
              "13    0.972871\n",
              "dtype: float64"
            ]
          },
          "metadata": {},
          "execution_count": 201
        }
      ]
    },
    {
      "cell_type": "markdown",
      "source": [
        "##Regression Line For Exponential regressor"
      ],
      "metadata": {
        "id": "qTLjSAgE4ufN"
      }
    },
    {
      "cell_type": "code",
      "source": [
        "plt.scatter(data.Weight_gained_grams,np.log(data.Calories_Consumed))\n",
        "plt.plot(data.Weight_gained_grams,pred2,color=\"red\")\n",
        "plt.title(\"exponential regressor\")\n",
        "plt.legend(['Predicted line', 'Observed data'])\n",
        "plt.show()"
      ],
      "metadata": {
        "colab": {
          "base_uri": "https://localhost:8080/",
          "height": 281
        },
        "id": "Wnf-DG4h3y9T",
        "outputId": "8dd5df67-5aba-44a6-fa82-d5e9db474b3f"
      },
      "execution_count": 202,
      "outputs": [
        {
          "output_type": "display_data",
          "data": {
            "text/plain": [
              "<Figure size 432x288 with 1 Axes>"
            ],
            "image/png": "[encoded data removed]"
          },
          "metadata": {
            "needs_background": "light"
          }
        }
      ]
    },
    {
      "cell_type": "markdown",
      "source": [
        "##Error Calculation for Exponential regressor"
      ],
      "metadata": {
        "id": "W6kgzyXQ433J"
      }
    },
    {
      "cell_type": "code",
      "source": [
        "res2=data.Calories_Consumed-pred2_Calories_Consumed\n",
        "res2"
      ],
      "metadata": {
        "colab": {
          "base_uri": "https://localhost:8080/"
        },
        "id": "Awz-jHOf423E",
        "outputId": "d9dff0c9-668e-47f7-d714-ac667edc320c"
      },
      "execution_count": 205,
      "outputs": [
        {
          "output_type": "execute_result",
          "data": {
            "text/plain": [
              "0    -0.000362\n",
              "1     0.000862\n",
              "2    -0.001641\n",
              "3     0.001147\n",
              "4     0.002749\n",
              "5    -0.000659\n",
              "6     0.001183\n",
              "7    -0.004695\n",
              "8     0.002126\n",
              "9    -0.003447\n",
              "10   -0.001525\n",
              "11    0.000235\n",
              "12    0.003089\n",
              "13    0.000970\n",
              "dtype: float64"
            ]
          },
          "metadata": {},
          "execution_count": 205
        }
      ]
    },
    {
      "cell_type": "code",
      "source": [
        "res_sqr2=res2*res2\n",
        "mse2=np.mean(res_sqr2)\n",
        "rmse2=np.sqrt(mse2)\n",
        "rmse2"
      ],
      "metadata": {
        "colab": {
          "base_uri": "https://localhost:8080/"
        },
        "id": "54ZgiLwl5OtH",
        "outputId": "889f71e5-8b01-453b-a208-9a1cb2706fa5"
      },
      "execution_count": 206,
      "outputs": [
        {
          "output_type": "execute_result",
          "data": {
            "text/plain": [
              "0.0021643559305724947"
            ]
          },
          "metadata": {},
          "execution_count": 206
        }
      ]
    },
    {
      "cell_type": "markdown",
      "source": [
        "#Polynomial Regressor"
      ],
      "metadata": {
        "id": "uttAZ0fB5yFK"
      }
    },
    {
      "cell_type": "code",
      "source": [
        "model3=smf.ols('np.log(Calories_Consumed)~Weight_gained_grams+I(Weight_gained_grams*Weight_gained_grams)',data=data).fit()\n",
        "model3.summary()"
      ],
      "metadata": {
        "colab": {
          "base_uri": "https://localhost:8080/",
          "height": 519
        },
        "id": "x4HXm40S6XZz",
        "outputId": "af239572-f52e-4442-911d-75fc84dd27cc"
      },
      "execution_count": 208,
      "outputs": [
        {
          "output_type": "stream",
          "name": "stderr",
          "text": [
            "/usr/local/lib/python3.7/dist-packages/scipy/stats/stats.py:1542: UserWarning: kurtosistest only valid for n>=20 ... continuing anyway, n=14\n",
            "  \"anyway, n=%i\" % int(n))\n"
          ]
        },
        {
          "output_type": "execute_result",
          "data": {
            "text/plain": [
              "<class 'statsmodels.iolib.summary.Summary'>\n",
              "\"\"\"\n",
              "                                OLS Regression Results                               \n",
              "=====================================================================================\n",
              "Dep. Variable:     np.log(Calories_Consumed)   R-squared:                       1.000\n",
              "Model:                                   OLS   Adj. R-squared:                  1.000\n",
              "Method:                        Least Squares   F-statistic:                 3.391e+05\n",
              "Date:                       Wed, 23 Nov 2022   Prob (F-statistic):           4.52e-27\n",
              "Time:                               10:04:09   Log-Likelihood:                 118.63\n",
              "No. Observations:                         14   AIC:                            -231.3\n",
              "Df Residuals:                             11   BIC:                            -229.3\n",
              "Df Model:                                  2                                         \n",
              "Covariance Type:                   nonrobust                                         \n",
              "================================================================================================================\n",
              "                                                   coef    std err          t      P>|t|      [0.025      0.975]\n",
              "----------------------------------------------------------------------------------------------------------------\n",
              "Intercept                                       -0.0003   7.39e-05     -3.485      0.005      -0.000    -9.5e-05\n",
              "Weight_gained_grams                              0.0065      0.001      5.432      0.000       0.004       0.009\n",
              "I(Weight_gained_grams * Weight_gained_grams)    -0.5385      0.004   -143.682      0.000      -0.547      -0.530\n",
              "==============================================================================\n",
              "Omnibus:                        1.560   Durbin-Watson:                   1.949\n",
              "Prob(Omnibus):                  0.459   Jarque-Bera (JB):                0.856\n",
              "Skew:                           0.596   Prob(JB):                        0.652\n",
              "Kurtosis:                       2.789   Cond. No.                         260.\n",
              "==============================================================================\n",
              "\n",
              "Notes:\n",
              "[1] Standard Errors assume that the covariance matrix of the errors is correctly specified.\n",
              "\"\"\""
            ],
            "text/html": [
              "<table class=\"simpletable\">\n",
              "<caption>OLS Regression Results</caption>\n",
              "<tr>\n",
              "  <th>Dep. Variable:</th>    <td>np.log(Calories_Consumed)</td> <th>  R-squared:         </th> <td>   1.000</td> \n",
              "</tr>\n",
              "<tr>\n",
              "  <th>Model:</th>                       <td>OLS</td>            <th>  Adj. R-squared:    </th> <td>   1.000</td> \n",
              "</tr>\n",
              "<tr>\n",
              "  <th>Method:</th>                 <td>Least Squares</td>       <th>  F-statistic:       </th> <td>3.391e+05</td>\n",
              "</tr>\n",
              "<tr>\n",
              "  <th>Date:</th>                 <td>Wed, 23 Nov 2022</td>      <th>  Prob (F-statistic):</th> <td>4.52e-27</td> \n",
              "</tr>\n",
              "<tr>\n",
              "  <th>Time:</th>                     <td>10:04:09</td>          <th>  Log-Likelihood:    </th> <td>  118.63</td> \n",
              "</tr>\n",
              "<tr>\n",
              "  <th>No. Observations:</th>          <td>    14</td>           <th>  AIC:               </th> <td>  -231.3</td> \n",
              "</tr>\n",
              "<tr>\n",
              "  <th>Df Residuals:</th>              <td>    11</td>           <th>  BIC:               </th> <td>  -229.3</td> \n",
              "</tr>\n",
              "<tr>\n",
              "  <th>Df Model:</th>                  <td>     2</td>           <th>                     </th>     <td> </td>    \n",
              "</tr>\n",
              "<tr>\n",
              "  <th>Covariance Type:</th>          <td>nonrobust</td>         <th>                     </th>     <td> </td>    \n",
              "</tr>\n",
              "</table>\n",
              "<table class=\"simpletable\">\n",
              "<tr>\n",
              "                        <td></td>                          <th>coef</th>     <th>std err</th>      <th>t</th>      <th>P>|t|</th>  <th>[0.025</th>    <th>0.975]</th>  \n",
              "</tr>\n",
              "<tr>\n",
              "  <th>Intercept</th>                                    <td>   -0.0003</td> <td> 7.39e-05</td> <td>   -3.485</td> <td> 0.005</td> <td>   -0.000</td> <td> -9.5e-05</td>\n",
              "</tr>\n",
              "<tr>\n",
              "  <th>Weight_gained_grams</th>                          <td>    0.0065</td> <td>    0.001</td> <td>    5.432</td> <td> 0.000</td> <td>    0.004</td> <td>    0.009</td>\n",
              "</tr>\n",
              "<tr>\n",
              "  <th>I(Weight_gained_grams * Weight_gained_grams)</th> <td>   -0.5385</td> <td>    0.004</td> <td> -143.682</td> <td> 0.000</td> <td>   -0.547</td> <td>   -0.530</td>\n",
              "</tr>\n",
              "</table>\n",
              "<table class=\"simpletable\">\n",
              "<tr>\n",
              "  <th>Omnibus:</th>       <td> 1.560</td> <th>  Durbin-Watson:     </th> <td>   1.949</td>\n",
              "</tr>\n",
              "<tr>\n",
              "  <th>Prob(Omnibus):</th> <td> 0.459</td> <th>  Jarque-Bera (JB):  </th> <td>   0.856</td>\n",
              "</tr>\n",
              "<tr>\n",
              "  <th>Skew:</th>          <td> 0.596</td> <th>  Prob(JB):          </th> <td>   0.652</td>\n",
              "</tr>\n",
              "<tr>\n",
              "  <th>Kurtosis:</th>      <td> 2.789</td> <th>  Cond. No.          </th> <td>    260.</td>\n",
              "</tr>\n",
              "</table><br/><br/>Notes:<br/>[1] Standard Errors assume that the covariance matrix of the errors is correctly specified."
            ]
          },
          "metadata": {},
          "execution_count": 208
        }
      ]
    },
    {
      "cell_type": "code",
      "source": [
        "pred3=model3.predict(pd.DataFrame(data))\n",
        "pred3"
      ],
      "metadata": {
        "colab": {
          "base_uri": "https://localhost:8080/"
        },
        "id": "sREe-vrL8GTX",
        "outputId": "28184b08-33f0-424d-ccea-c0b7113f59a0"
      },
      "execution_count": 209,
      "outputs": [
        {
          "output_type": "execute_result",
          "data": {
            "text/plain": [
              "0    -0.002569\n",
              "1    -0.003737\n",
              "2    -0.033860\n",
              "3    -0.004084\n",
              "4    -0.007129\n",
              "5    -0.002346\n",
              "6    -0.004131\n",
              "7    -0.000619\n",
              "8    -0.022541\n",
              "9    -0.038180\n",
              "10   -0.001794\n",
              "11   -0.003083\n",
              "12   -0.008323\n",
              "13   -0.026589\n",
              "dtype: float64"
            ]
          },
          "metadata": {},
          "execution_count": 209
        }
      ]
    },
    {
      "cell_type": "code",
      "source": [
        "pred3_Calories_Consumed=np.exp(pred3)\n",
        "pred3_Calories_Consumed"
      ],
      "metadata": {
        "colab": {
          "base_uri": "https://localhost:8080/"
        },
        "id": "oamlw90c8tHE",
        "outputId": "2f01d1a7-83c8-41b7-cc53-afdb14bd4440"
      },
      "execution_count": 211,
      "outputs": [
        {
          "output_type": "execute_result",
          "data": {
            "text/plain": [
              "0     0.997434\n",
              "1     0.996270\n",
              "2     0.966707\n",
              "3     0.995924\n",
              "4     0.992896\n",
              "5     0.997657\n",
              "6     0.995877\n",
              "7     0.999381\n",
              "8     0.977712\n",
              "9     0.962540\n",
              "10    0.998208\n",
              "11    0.996922\n",
              "12    0.991711\n",
              "13    0.973761\n",
              "dtype: float64"
            ]
          },
          "metadata": {},
          "execution_count": 211
        }
      ]
    },
    {
      "cell_type": "markdown",
      "source": [
        "##POLYNOMIAL REGRESSOR LINE"
      ],
      "metadata": {
        "id": "-55CbIuG_bTb"
      }
    },
    {
      "cell_type": "code",
      "source": [
        "from sklearn.preprocessing import PolynomialFeatures\n",
        "poly_reg = PolynomialFeatures(degree = 2)\n",
        "X = data.iloc[:, 0:1].values\n",
        "X_poly = poly_reg.fit_transform(X)\n",
        "X_poly"
      ],
      "metadata": {
        "colab": {
          "base_uri": "https://localhost:8080/"
        },
        "id": "fprA8Phe-EDe",
        "outputId": "bee7258c-94b1-4671-9880-6ad3f2de5890"
      },
      "execution_count": 257,
      "outputs": [
        {
          "output_type": "execute_result",
          "data": {
            "text/plain": [
              "array([[1.        , 0.0718141 , 0.00515726],\n",
              "       [1.        , 0.08662962, 0.00750469],\n",
              "       [1.        , 0.25589256, 0.065481  ],\n",
              "       [1.        , 0.09053575, 0.00819672],\n",
              "       [1.        , 0.11914522, 0.01419558],\n",
              "       [1.        , 0.0685881 , 0.00470433],\n",
              "       [1.        , 0.09104882, 0.00828989],\n",
              "       [1.        , 0.03261422, 0.00106369],\n",
              "       [1.        , 0.20952909, 0.04390244],\n",
              "       [1.        , 0.27146017, 0.07369062],\n",
              "       [1.        , 0.05977317, 0.00357283],\n",
              "       [1.        , 0.07870249, 0.00619408],\n",
              "       [1.        , 0.12855403, 0.01652614],\n",
              "       [1.        , 0.22722962, 0.0516333 ]])"
            ]
          },
          "metadata": {},
          "execution_count": 257
        }
      ]
    },
    {
      "cell_type": "code",
      "source": [
        "import operator\n",
        "plt.scatter(data.Weight_gained_grams,np.log(data.Calories_Consumed))\n",
        "poly_reg = PolynomialFeatures(degree = 2)\n",
        "sort_axis = operator.itemgetter(0)\n",
        "sorted_zip = sorted(zip(X,pred3), key=sort_axis)\n",
        "x, y_poly_pred = zip(*sorted_zip)\n",
        "plt.plot(x, y_poly_pred, color='m')\n",
        "plt.show()\n"
      ],
      "metadata": {
        "colab": {
          "base_uri": "https://localhost:8080/",
          "height": 265
        },
        "id": "9hVVGDX9Mbov",
        "outputId": "0f1129ef-deed-48ed-f90b-ee6d81e0a9ca"
      },
      "execution_count": 263,
      "outputs": [
        {
          "output_type": "display_data",
          "data": {
            "text/plain": [
              "<Figure size 432x288 with 1 Axes>"
            ],
            "image/png": "[encoded data removed]"
          },
          "metadata": {
            "needs_background": "light"
          }
        }
      ]
    },
    {
      "cell_type": "code",
      "source": [
        "plt.scatter(data.Weight_gained_grams,np.log(data.Calories_Consumed))\n",
        "plt.plot(X,pred3,color=\"red\")\n",
        "plt.title(\"POLYNOMIAL REGRESSION\")\n",
        "plt.legend(['Predicted line', 'Observed data'])\n",
        "plt.show()"
      ],
      "metadata": {
        "colab": {
          "base_uri": "https://localhost:8080/",
          "height": 281
        },
        "id": "xXrjcCO0_KYZ",
        "outputId": "9316cd3e-8c45-4692-e662-c02f3d8c4127"
      },
      "execution_count": 264,
      "outputs": [
        {
          "output_type": "display_data",
          "data": {
            "text/plain": [
              "<Figure size 432x288 with 1 Axes>"
            ],
            "image/png": "[encoded data removed]"
          },
          "metadata": {
            "needs_background": "light"
          }
        }
      ]
    },
    {
      "cell_type": "markdown",
      "source": [
        "#ERROR CALCULATION OF POLYNOMIAL REGRESSOR"
      ],
      "metadata": {
        "id": "RVW3ucuOBklS"
      }
    },
    {
      "cell_type": "code",
      "source": [
        "res3=data.Calories_Consumed-pred3_Calories_Consumed\n",
        "res_sqr3=res3*res3\n",
        "mse3=np.mean(res_sqr3)\n",
        "rmse3=np.sqrt(mse3)\n",
        "rmse3"
      ],
      "metadata": {
        "colab": {
          "base_uri": "https://localhost:8080/"
        },
        "id": "_tB4bzZABcfp",
        "outputId": "203acd18-096c-483d-9587-7a1788df3fd8"
      },
      "execution_count": 217,
      "outputs": [
        {
          "output_type": "execute_result",
          "data": {
            "text/plain": [
              "4.955861496992677e-05"
            ]
          },
          "metadata": {},
          "execution_count": 217
        }
      ]
    },
    {
      "cell_type": "markdown",
      "source": [
        "#CHOOSE THE BEST FIT MODEL"
      ],
      "metadata": {
        "id": "D7ziP_wBDIbb"
      }
    },
    {
      "cell_type": "code",
      "source": [
        "data1 = {\"MODEL\":pd.Series([\"SLR\", \"Log model\", \"Exp model\", \"Poly model\"]), \"RMSE\":pd.Series([rmse, rmse1,rmse2, rmse3])}\n",
        "table_rmse = pd.DataFrame(data1)\n",
        "table_rmse"
      ],
      "metadata": {
        "colab": {
          "base_uri": "https://localhost:8080/",
          "height": 175
        },
        "id": "COaZbdCsDHOS",
        "outputId": "e1e6e275-ef9f-40f0-b9e7-688afd9e5a80"
      },
      "execution_count": 219,
      "outputs": [
        {
          "output_type": "execute_result",
          "data": {
            "text/plain": [
              "        MODEL      RMSE\n",
              "0         SLR  0.002111\n",
              "1   Log model  0.005215\n",
              "2   Exp model  0.002164\n",
              "3  Poly model  0.000050"
            ],
            "text/html": [
              "\n",
              "  <div id=\"df-100c4e25-b81e-4d8d-ae38-48cefc763c34\">\n",
              "    <div class=\"colab-df-container\">\n",
              "      <div>\n",
              "<style scoped>\n",
              "    .dataframe tbody tr th:only-of-type {\n",
              "        vertical-align: middle;\n",
              "    }\n",
              "\n",
              "    .dataframe tbody tr th {\n",
              "        vertical-align: top;\n",
              "    }\n",
              "\n",
              "    .dataframe thead th {\n",
              "        text-align: right;\n",
              "    }\n",
              "</style>\n",
              "<table border=\"1\" class=\"dataframe\">\n",
              "  <thead>\n",
              "    <tr style=\"text-align: right;\">\n",
              "      <th></th>\n",
              "      <th>MODEL</th>\n",
              "      <th>RMSE</th>\n",
              "    </tr>\n",
              "  </thead>\n",
              "  <tbody>\n",
              "    <tr>\n",
              "      <th>0</th>\n",
              "      <td>SLR</td>\n",
              "      <td>0.002111</td>\n",
              "    </tr>\n",
              "    <tr>\n",
              "      <th>1</th>\n",
              "      <td>Log model</td>\n",
              "      <td>0.005215</td>\n",
              "    </tr>\n",
              "    <tr>\n",
              "      <th>2</th>\n",
              "      <td>Exp model</td>\n",
              "      <td>0.002164</td>\n",
              "    </tr>\n",
              "    <tr>\n",
              "      <th>3</th>\n",
              "      <td>Poly model</td>\n",
              "      <td>0.000050</td>\n",
              "    </tr>\n",
              "  </tbody>\n",
              "</table>\n",
              "</div>\n",
              "      <button class=\"colab-df-convert\" onclick=\"convertToInteractive('df-100c4e25-b81e-4d8d-ae38-48cefc763c34')\"\n",
              "              title=\"Convert this dataframe to an interactive table.\"\n",
              "              style=\"display:none;\">\n",
              "        \n",
              "  <svg xmlns=\"http://www.w3.org/2000/svg\" height=\"24px\"viewBox=\"0 0 24 24\"\n",
              "       width=\"24px\">\n",
              "    <path d=\"M0 0h24v24H0V0z\" fill=\"none\"/>\n",
              "    <path d=\"M18.56 5.44l.94 2.06.94-2.06 2.06-.94-2.06-.94-.94-2.06-.94 2.06-2.06.94zm-11 1L8.5 8.5l.94-2.06 2.06-.94-2.06-.94L8.5 2.5l-.94 2.06-2.06.94zm10 10l.94 2.06.94-2.06 2.06-.94-2.06-.94-.94-2.06-.94 2.06-2.06.94z\"/><path d=\"M17.41 7.96l-1.37-1.37c-.4-.4-.92-.59-1.43-.59-.52 0-1.04.2-1.43.59L10.3 9.45l-7.72 7.72c-.78.78-.78 2.05 0 2.83L4 21.41c.39.39.9.59 1.41.59.51 0 1.02-.2 1.41-.59l7.78-7.78 2.81-2.81c.8-.78.8-2.07 0-2.86zM5.41 20L4 18.59l7.72-7.72 1.47 1.35L5.41 20z\"/>\n",
              "  </svg>\n",
              "      </button>\n",
              "      \n",
              "  <style>\n",
              "    .colab-df-container {\n",
              "      display:flex;\n",
              "      flex-wrap:wrap;\n",
              "      gap: 12px;\n",
              "    }\n",
              "\n",
              "    .colab-df-convert {\n",
              "      background-color: #E8F0FE;\n",
              "      border: none;\n",
              "      border-radius: 50%;\n",
              "      cursor: pointer;\n",
              "      display: none;\n",
              "      fill: #1967D2;\n",
              "      height: 32px;\n",
              "      padding: 0 0 0 0;\n",
              "      width: 32px;\n",
              "    }\n",
              "\n",
              "    .colab-df-convert:hover {\n",
              "      background-color: #E2EBFA;\n",
              "      box-shadow: 0px 1px 2px rgba(60, 64, 67, 0.3), 0px 1px 3px 1px rgba(60, 64, 67, 0.15);\n",
              "      fill: #174EA6;\n",
              "    }\n",
              "\n",
              "    [theme=dark] .colab-df-convert {\n",
              "      background-color: #3B4455;\n",
              "      fill: #D2E3FC;\n",
              "    }\n",
              "\n",
              "    [theme=dark] .colab-df-convert:hover {\n",
              "      background-color: #434B5C;\n",
              "      box-shadow: 0px 1px 3px 1px rgba(0, 0, 0, 0.15);\n",
              "      filter: drop-shadow(0px 1px 2px rgba(0, 0, 0, 0.3));\n",
              "      fill: #FFFFFF;\n",
              "    }\n",
              "  </style>\n",
              "\n",
              "      <script>\n",
              "        const buttonEl =\n",
              "          document.querySelector('#df-100c4e25-b81e-4d8d-ae38-48cefc763c34 button.colab-df-convert');\n",
              "        buttonEl.style.display =\n",
              "          google.colab.kernel.accessAllowed ? 'block' : 'none';\n",
              "\n",
              "        async function convertToInteractive(key) {\n",
              "          const element = document.querySelector('#df-100c4e25-b81e-4d8d-ae38-48cefc763c34');\n",
              "          const dataTable =\n",
              "            await google.colab.kernel.invokeFunction('convertToInteractive',\n",
              "                                                     [key], {});\n",
              "          if (!dataTable) return;\n",
              "\n",
              "          const docLinkHtml = 'Like what you see? Visit the ' +\n",
              "            '<a target=\"_blank\" href=https://colab.research.google.com/notebooks/data_table.ipynb>data table notebook</a>'\n",
              "            + ' to learn more about interactive tables.';\n",
              "          element.innerHTML = '';\n",
              "          dataTable['output_type'] = 'display_data';\n",
              "          await google.colab.output.renderOutput(dataTable, element);\n",
              "          const docLink = document.createElement('div');\n",
              "          docLink.innerHTML = docLinkHtml;\n",
              "          element.appendChild(docLink);\n",
              "        }\n",
              "      </script>\n",
              "    </div>\n",
              "  </div>\n",
              "  "
            ]
          },
          "metadata": {},
          "execution_count": 219
        }
      ]
    },
    {
      "cell_type": "markdown",
      "source": [
        "#THE BEST MODEL IS POLY REGRESSOR SO WE ARE GOING TO USE IT"
      ],
      "metadata": {
        "id": "N2ydzJCLDp6S"
      }
    },
    {
      "cell_type": "markdown",
      "source": [
        "##SPLIT THE MODEL\n"
      ],
      "metadata": {
        "id": "lgoeFGkkD0yK"
      }
    },
    {
      "cell_type": "code",
      "source": [
        "from sklearn.model_selection import train_test_split"
      ],
      "metadata": {
        "id": "Olf4MZEXDnsp"
      },
      "execution_count": 220,
      "outputs": []
    },
    {
      "cell_type": "code",
      "source": [
        "train, test = train_test_split(data, test_size = 0.2,random_state=0)\n",
        "train"
      ],
      "metadata": {
        "colab": {
          "base_uri": "https://localhost:8080/",
          "height": 394
        },
        "id": "ym-oDgJjEHqy",
        "outputId": "936f9481-9677-4e93-bd70-b6eb3f897a22"
      },
      "execution_count": 223,
      "outputs": [
        {
          "output_type": "execute_result",
          "data": {
            "text/plain": [
              "    Weight_gained_grams  Calories_Consumed\n",
              "11             0.078702           0.996898\n",
              "2              0.255893           0.966705\n",
              "13             0.227230           0.973841\n",
              "9              0.271460           0.962450\n",
              "1              0.086630           0.996241\n",
              "7              0.032614           0.999468\n",
              "10             0.059773           0.998212\n",
              "3              0.090536           0.995893\n",
              "0              0.071814           0.997418\n",
              "5              0.068588           0.997645\n",
              "12             0.128554           0.991703"
            ],
            "text/html": [
              "\n",
              "  <div id=\"df-4212971b-91ab-44f9-9501-6740d4db0992\">\n",
              "    <div class=\"colab-df-container\">\n",
              "      <div>\n",
              "<style scoped>\n",
              "    .dataframe tbody tr th:only-of-type {\n",
              "        vertical-align: middle;\n",
              "    }\n",
              "\n",
              "    .dataframe tbody tr th {\n",
              "        vertical-align: top;\n",
              "    }\n",
              "\n",
              "    .dataframe thead th {\n",
              "        text-align: right;\n",
              "    }\n",
              "</style>\n",
              "<table border=\"1\" class=\"dataframe\">\n",
              "  <thead>\n",
              "    <tr style=\"text-align: right;\">\n",
              "      <th></th>\n",
              "      <th>Weight_gained_grams</th>\n",
              "      <th>Calories_Consumed</th>\n",
              "    </tr>\n",
              "  </thead>\n",
              "  <tbody>\n",
              "    <tr>\n",
              "      <th>11</th>\n",
              "      <td>0.078702</td>\n",
              "      <td>0.996898</td>\n",
              "    </tr>\n",
              "    <tr>\n",
              "      <th>2</th>\n",
              "      <td>0.255893</td>\n",
              "      <td>0.966705</td>\n",
              "    </tr>\n",
              "    <tr>\n",
              "      <th>13</th>\n",
              "      <td>0.227230</td>\n",
              "      <td>0.973841</td>\n",
              "    </tr>\n",
              "    <tr>\n",
              "      <th>9</th>\n",
              "      <td>0.271460</td>\n",
              "      <td>0.962450</td>\n",
              "    </tr>\n",
              "    <tr>\n",
              "      <th>1</th>\n",
              "      <td>0.086630</td>\n",
              "      <td>0.996241</td>\n",
              "    </tr>\n",
              "    <tr>\n",
              "      <th>7</th>\n",
              "      <td>0.032614</td>\n",
              "      <td>0.999468</td>\n",
              "    </tr>\n",
              "    <tr>\n",
              "      <th>10</th>\n",
              "      <td>0.059773</td>\n",
              "      <td>0.998212</td>\n",
              "    </tr>\n",
              "    <tr>\n",
              "      <th>3</th>\n",
              "      <td>0.090536</td>\n",
              "      <td>0.995893</td>\n",
              "    </tr>\n",
              "    <tr>\n",
              "      <th>0</th>\n",
              "      <td>0.071814</td>\n",
              "      <td>0.997418</td>\n",
              "    </tr>\n",
              "    <tr>\n",
              "      <th>5</th>\n",
              "      <td>0.068588</td>\n",
              "      <td>0.997645</td>\n",
              "    </tr>\n",
              "    <tr>\n",
              "      <th>12</th>\n",
              "      <td>0.128554</td>\n",
              "      <td>0.991703</td>\n",
              "    </tr>\n",
              "  </tbody>\n",
              "</table>\n",
              "</div>\n",
              "      <button class=\"colab-df-convert\" onclick=\"convertToInteractive('df-4212971b-91ab-44f9-9501-6740d4db0992')\"\n",
              "              title=\"Convert this dataframe to an interactive table.\"\n",
              "              style=\"display:none;\">\n",
              "        \n",
              "  <svg xmlns=\"http://www.w3.org/2000/svg\" height=\"24px\"viewBox=\"0 0 24 24\"\n",
              "       width=\"24px\">\n",
              "    <path d=\"M0 0h24v24H0V0z\" fill=\"none\"/>\n",
              "    <path d=\"M18.56 5.44l.94 2.06.94-2.06 2.06-.94-2.06-.94-.94-2.06-.94 2.06-2.06.94zm-11 1L8.5 8.5l.94-2.06 2.06-.94-2.06-.94L8.5 2.5l-.94 2.06-2.06.94zm10 10l.94 2.06.94-2.06 2.06-.94-2.06-.94-.94-2.06-.94 2.06-2.06.94z\"/><path d=\"M17.41 7.96l-1.37-1.37c-.4-.4-.92-.59-1.43-.59-.52 0-1.04.2-1.43.59L10.3 9.45l-7.72 7.72c-.78.78-.78 2.05 0 2.83L4 21.41c.39.39.9.59 1.41.59.51 0 1.02-.2 1.41-.59l7.78-7.78 2.81-2.81c.8-.78.8-2.07 0-2.86zM5.41 20L4 18.59l7.72-7.72 1.47 1.35L5.41 20z\"/>\n",
              "  </svg>\n",
              "      </button>\n",
              "      \n",
              "  <style>\n",
              "    .colab-df-container {\n",
              "      display:flex;\n",
              "      flex-wrap:wrap;\n",
              "      gap: 12px;\n",
              "    }\n",
              "\n",
              "    .colab-df-convert {\n",
              "      background-color: #E8F0FE;\n",
              "      border: none;\n",
              "      border-radius: 50%;\n",
              "      cursor: pointer;\n",
              "      display: none;\n",
              "      fill: #1967D2;\n",
              "      height: 32px;\n",
              "      padding: 0 0 0 0;\n",
              "      width: 32px;\n",
              "    }\n",
              "\n",
              "    .colab-df-convert:hover {\n",
              "      background-color: #E2EBFA;\n",
              "      box-shadow: 0px 1px 2px rgba(60, 64, 67, 0.3), 0px 1px 3px 1px rgba(60, 64, 67, 0.15);\n",
              "      fill: #174EA6;\n",
              "    }\n",
              "\n",
              "    [theme=dark] .colab-df-convert {\n",
              "      background-color: #3B4455;\n",
              "      fill: #D2E3FC;\n",
              "    }\n",
              "\n",
              "    [theme=dark] .colab-df-convert:hover {\n",
              "      background-color: #434B5C;\n",
              "      box-shadow: 0px 1px 3px 1px rgba(0, 0, 0, 0.15);\n",
              "      filter: drop-shadow(0px 1px 2px rgba(0, 0, 0, 0.3));\n",
              "      fill: #FFFFFF;\n",
              "    }\n",
              "  </style>\n",
              "\n",
              "      <script>\n",
              "        const buttonEl =\n",
              "          document.querySelector('#df-4212971b-91ab-44f9-9501-6740d4db0992 button.colab-df-convert');\n",
              "        buttonEl.style.display =\n",
              "          google.colab.kernel.accessAllowed ? 'block' : 'none';\n",
              "\n",
              "        async function convertToInteractive(key) {\n",
              "          const element = document.querySelector('#df-4212971b-91ab-44f9-9501-6740d4db0992');\n",
              "          const dataTable =\n",
              "            await google.colab.kernel.invokeFunction('convertToInteractive',\n",
              "                                                     [key], {});\n",
              "          if (!dataTable) return;\n",
              "\n",
              "          const docLinkHtml = 'Like what you see? Visit the ' +\n",
              "            '<a target=\"_blank\" href=https://colab.research.google.com/notebooks/data_table.ipynb>data table notebook</a>'\n",
              "            + ' to learn more about interactive tables.';\n",
              "          element.innerHTML = '';\n",
              "          dataTable['output_type'] = 'display_data';\n",
              "          await google.colab.output.renderOutput(dataTable, element);\n",
              "          const docLink = document.createElement('div');\n",
              "          docLink.innerHTML = docLinkHtml;\n",
              "          element.appendChild(docLink);\n",
              "        }\n",
              "      </script>\n",
              "    </div>\n",
              "  </div>\n",
              "  "
            ]
          },
          "metadata": {},
          "execution_count": 223
        }
      ]
    },
    {
      "cell_type": "code",
      "source": [
        "test"
      ],
      "metadata": {
        "colab": {
          "base_uri": "https://localhost:8080/",
          "height": 143
        },
        "id": "77_47f35EQ3E",
        "outputId": "4dfef2d5-34db-49f5-9663-5c6b5f0b5363"
      },
      "execution_count": 224,
      "outputs": [
        {
          "output_type": "execute_result",
          "data": {
            "text/plain": [
              "   Weight_gained_grams  Calories_Consumed\n",
              "8             0.209529           0.977802\n",
              "6             0.091049           0.995846\n",
              "4             0.119145           0.992877"
            ],
            "text/html": [
              "\n",
              "  <div id=\"df-35bf91c2-3fb0-4840-ab33-4a7511587303\">\n",
              "    <div class=\"colab-df-container\">\n",
              "      <div>\n",
              "<style scoped>\n",
              "    .dataframe tbody tr th:only-of-type {\n",
              "        vertical-align: middle;\n",
              "    }\n",
              "\n",
              "    .dataframe tbody tr th {\n",
              "        vertical-align: top;\n",
              "    }\n",
              "\n",
              "    .dataframe thead th {\n",
              "        text-align: right;\n",
              "    }\n",
              "</style>\n",
              "<table border=\"1\" class=\"dataframe\">\n",
              "  <thead>\n",
              "    <tr style=\"text-align: right;\">\n",
              "      <th></th>\n",
              "      <th>Weight_gained_grams</th>\n",
              "      <th>Calories_Consumed</th>\n",
              "    </tr>\n",
              "  </thead>\n",
              "  <tbody>\n",
              "    <tr>\n",
              "      <th>8</th>\n",
              "      <td>0.209529</td>\n",
              "      <td>0.977802</td>\n",
              "    </tr>\n",
              "    <tr>\n",
              "      <th>6</th>\n",
              "      <td>0.091049</td>\n",
              "      <td>0.995846</td>\n",
              "    </tr>\n",
              "    <tr>\n",
              "      <th>4</th>\n",
              "      <td>0.119145</td>\n",
              "      <td>0.992877</td>\n",
              "    </tr>\n",
              "  </tbody>\n",
              "</table>\n",
              "</div>\n",
              "      <button class=\"colab-df-convert\" onclick=\"convertToInteractive('df-35bf91c2-3fb0-4840-ab33-4a7511587303')\"\n",
              "              title=\"Convert this dataframe to an interactive table.\"\n",
              "              style=\"display:none;\">\n",
              "        \n",
              "  <svg xmlns=\"http://www.w3.org/2000/svg\" height=\"24px\"viewBox=\"0 0 24 24\"\n",
              "       width=\"24px\">\n",
              "    <path d=\"M0 0h24v24H0V0z\" fill=\"none\"/>\n",
              "    <path d=\"M18.56 5.44l.94 2.06.94-2.06 2.06-.94-2.06-.94-.94-2.06-.94 2.06-2.06.94zm-11 1L8.5 8.5l.94-2.06 2.06-.94-2.06-.94L8.5 2.5l-.94 2.06-2.06.94zm10 10l.94 2.06.94-2.06 2.06-.94-2.06-.94-.94-2.06-.94 2.06-2.06.94z\"/><path d=\"M17.41 7.96l-1.37-1.37c-.4-.4-.92-.59-1.43-.59-.52 0-1.04.2-1.43.59L10.3 9.45l-7.72 7.72c-.78.78-.78 2.05 0 2.83L4 21.41c.39.39.9.59 1.41.59.51 0 1.02-.2 1.41-.59l7.78-7.78 2.81-2.81c.8-.78.8-2.07 0-2.86zM5.41 20L4 18.59l7.72-7.72 1.47 1.35L5.41 20z\"/>\n",
              "  </svg>\n",
              "      </button>\n",
              "      \n",
              "  <style>\n",
              "    .colab-df-container {\n",
              "      display:flex;\n",
              "      flex-wrap:wrap;\n",
              "      gap: 12px;\n",
              "    }\n",
              "\n",
              "    .colab-df-convert {\n",
              "      background-color: #E8F0FE;\n",
              "      border: none;\n",
              "      border-radius: 50%;\n",
              "      cursor: pointer;\n",
              "      display: none;\n",
              "      fill: #1967D2;\n",
              "      height: 32px;\n",
              "      padding: 0 0 0 0;\n",
              "      width: 32px;\n",
              "    }\n",
              "\n",
              "    .colab-df-convert:hover {\n",
              "      background-color: #E2EBFA;\n",
              "      box-shadow: 0px 1px 2px rgba(60, 64, 67, 0.3), 0px 1px 3px 1px rgba(60, 64, 67, 0.15);\n",
              "      fill: #174EA6;\n",
              "    }\n",
              "\n",
              "    [theme=dark] .colab-df-convert {\n",
              "      background-color: #3B4455;\n",
              "      fill: #D2E3FC;\n",
              "    }\n",
              "\n",
              "    [theme=dark] .colab-df-convert:hover {\n",
              "      background-color: #434B5C;\n",
              "      box-shadow: 0px 1px 3px 1px rgba(0, 0, 0, 0.15);\n",
              "      filter: drop-shadow(0px 1px 2px rgba(0, 0, 0, 0.3));\n",
              "      fill: #FFFFFF;\n",
              "    }\n",
              "  </style>\n",
              "\n",
              "      <script>\n",
              "        const buttonEl =\n",
              "          document.querySelector('#df-35bf91c2-3fb0-4840-ab33-4a7511587303 button.colab-df-convert');\n",
              "        buttonEl.style.display =\n",
              "          google.colab.kernel.accessAllowed ? 'block' : 'none';\n",
              "\n",
              "        async function convertToInteractive(key) {\n",
              "          const element = document.querySelector('#df-35bf91c2-3fb0-4840-ab33-4a7511587303');\n",
              "          const dataTable =\n",
              "            await google.colab.kernel.invokeFunction('convertToInteractive',\n",
              "                                                     [key], {});\n",
              "          if (!dataTable) return;\n",
              "\n",
              "          const docLinkHtml = 'Like what you see? Visit the ' +\n",
              "            '<a target=\"_blank\" href=https://colab.research.google.com/notebooks/data_table.ipynb>data table notebook</a>'\n",
              "            + ' to learn more about interactive tables.';\n",
              "          element.innerHTML = '';\n",
              "          dataTable['output_type'] = 'display_data';\n",
              "          await google.colab.output.renderOutput(dataTable, element);\n",
              "          const docLink = document.createElement('div');\n",
              "          docLink.innerHTML = docLinkHtml;\n",
              "          element.appendChild(docLink);\n",
              "        }\n",
              "      </script>\n",
              "    </div>\n",
              "  </div>\n",
              "  "
            ]
          },
          "metadata": {},
          "execution_count": 224
        }
      ]
    },
    {
      "cell_type": "markdown",
      "source": [
        "##plot the scatter Of Train and Test data"
      ],
      "metadata": {
        "id": "a5ZhQSv2Edw4"
      }
    },
    {
      "cell_type": "code",
      "source": [
        "plt.scatter(train.Weight_gained_grams,np.log(train.Calories_Consumed))\n",
        "plt.title(\"TRAIN_SCATTER\")"
      ],
      "metadata": {
        "colab": {
          "base_uri": "https://localhost:8080/",
          "height": 298
        },
        "id": "HzQcQJ3dEbxR",
        "outputId": "32c4b3b0-6860-4596-a2c5-54b75ce37f85"
      },
      "execution_count": 227,
      "outputs": [
        {
          "output_type": "execute_result",
          "data": {
            "text/plain": [
              "Text(0.5, 1.0, 'TRAIN_SCATTER')"
            ]
          },
          "metadata": {},
          "execution_count": 227
        },
        {
          "output_type": "display_data",
          "data": {
            "text/plain": [
              "<Figure size 432x288 with 1 Axes>"
            ],
            "image/png": "[encoded data removed]"
          },
          "metadata": {
            "needs_background": "light"
          }
        }
      ]
    },
    {
      "cell_type": "code",
      "source": [
        "plt.scatter(test.Weight_gained_grams,np.log(test.Calories_Consumed))\n",
        "plt.title(\"TEST_SCATTER\")"
      ],
      "metadata": {
        "colab": {
          "base_uri": "https://localhost:8080/",
          "height": 298
        },
        "id": "K9keS5CCFOP3",
        "outputId": "10125c54-23bc-4ec4-83e6-e142dcf9c0ac"
      },
      "execution_count": 228,
      "outputs": [
        {
          "output_type": "execute_result",
          "data": {
            "text/plain": [
              "Text(0.5, 1.0, 'TEST_SCATTER')"
            ]
          },
          "metadata": {},
          "execution_count": 228
        },
        {
          "output_type": "display_data",
          "data": {
            "text/plain": [
              "<Figure size 432x288 with 1 Axes>"
            ],
            "image/png": "[encoded data removed]"
          },
          "metadata": {
            "needs_background": "light"
          }
        }
      ]
    },
    {
      "cell_type": "code",
      "source": [
        "Finalmodel=smf.ols('np.log(Calories_Consumed)~Weight_gained_grams+I(Weight_gained_grams*Weight_gained_grams)',data=train).fit()\n",
        "Finalmodel.summary()"
      ],
      "metadata": {
        "colab": {
          "base_uri": "https://localhost:8080/",
          "height": 519
        },
        "id": "1a7EvgERFXwO",
        "outputId": "328c07bc-7405-40f9-b298-62ec303ed30c"
      },
      "execution_count": 229,
      "outputs": [
        {
          "output_type": "stream",
          "name": "stderr",
          "text": [
            "/usr/local/lib/python3.7/dist-packages/scipy/stats/stats.py:1542: UserWarning: kurtosistest only valid for n>=20 ... continuing anyway, n=11\n",
            "  \"anyway, n=%i\" % int(n))\n"
          ]
        },
        {
          "output_type": "execute_result",
          "data": {
            "text/plain": [
              "<class 'statsmodels.iolib.summary.Summary'>\n",
              "\"\"\"\n",
              "                                OLS Regression Results                               \n",
              "=====================================================================================\n",
              "Dep. Variable:     np.log(Calories_Consumed)   R-squared:                       1.000\n",
              "Model:                                   OLS   Adj. R-squared:                  1.000\n",
              "Method:                        Least Squares   F-statistic:                 3.336e+05\n",
              "Date:                       Wed, 23 Nov 2022   Prob (F-statistic):           2.07e-20\n",
              "Time:                               10:46:09   Log-Likelihood:                 94.044\n",
              "No. Observations:                         11   AIC:                            -182.1\n",
              "Df Residuals:                              8   BIC:                            -180.9\n",
              "Df Model:                                  2                                         \n",
              "Covariance Type:                   nonrobust                                         \n",
              "================================================================================================================\n",
              "                                                   coef    std err          t      P>|t|      [0.025      0.975]\n",
              "----------------------------------------------------------------------------------------------------------------\n",
              "Intercept                                       -0.0002   7.89e-05     -2.785      0.024      -0.000   -3.78e-05\n",
              "Weight_gained_grams                              0.0059      0.001      4.380      0.002       0.003       0.009\n",
              "I(Weight_gained_grams * Weight_gained_grams)    -0.5370      0.004   -128.301      0.000      -0.547      -0.527\n",
              "==============================================================================\n",
              "Omnibus:                        3.003   Durbin-Watson:                   2.469\n",
              "Prob(Omnibus):                  0.223   Jarque-Bera (JB):                1.069\n",
              "Skew:                           0.752   Prob(JB):                        0.586\n",
              "Kurtosis:                       3.264   Cond. No.                         267.\n",
              "==============================================================================\n",
              "\n",
              "Notes:\n",
              "[1] Standard Errors assume that the covariance matrix of the errors is correctly specified.\n",
              "\"\"\""
            ],
            "text/html": [
              "<table class=\"simpletable\">\n",
              "<caption>OLS Regression Results</caption>\n",
              "<tr>\n",
              "  <th>Dep. Variable:</th>    <td>np.log(Calories_Consumed)</td> <th>  R-squared:         </th> <td>   1.000</td> \n",
              "</tr>\n",
              "<tr>\n",
              "  <th>Model:</th>                       <td>OLS</td>            <th>  Adj. R-squared:    </th> <td>   1.000</td> \n",
              "</tr>\n",
              "<tr>\n",
              "  <th>Method:</th>                 <td>Least Squares</td>       <th>  F-statistic:       </th> <td>3.336e+05</td>\n",
              "</tr>\n",
              "<tr>\n",
              "  <th>Date:</th>                 <td>Wed, 23 Nov 2022</td>      <th>  Prob (F-statistic):</th> <td>2.07e-20</td> \n",
              "</tr>\n",
              "<tr>\n",
              "  <th>Time:</th>                     <td>10:46:09</td>          <th>  Log-Likelihood:    </th> <td>  94.044</td> \n",
              "</tr>\n",
              "<tr>\n",
              "  <th>No. Observations:</th>          <td>    11</td>           <th>  AIC:               </th> <td>  -182.1</td> \n",
              "</tr>\n",
              "<tr>\n",
              "  <th>Df Residuals:</th>              <td>     8</td>           <th>  BIC:               </th> <td>  -180.9</td> \n",
              "</tr>\n",
              "<tr>\n",
              "  <th>Df Model:</th>                  <td>     2</td>           <th>                     </th>     <td> </td>    \n",
              "</tr>\n",
              "<tr>\n",
              "  <th>Covariance Type:</th>          <td>nonrobust</td>         <th>                     </th>     <td> </td>    \n",
              "</tr>\n",
              "</table>\n",
              "<table class=\"simpletable\">\n",
              "<tr>\n",
              "                        <td></td>                          <th>coef</th>     <th>std err</th>      <th>t</th>      <th>P>|t|</th>  <th>[0.025</th>    <th>0.975]</th>  \n",
              "</tr>\n",
              "<tr>\n",
              "  <th>Intercept</th>                                    <td>   -0.0002</td> <td> 7.89e-05</td> <td>   -2.785</td> <td> 0.024</td> <td>   -0.000</td> <td>-3.78e-05</td>\n",
              "</tr>\n",
              "<tr>\n",
              "  <th>Weight_gained_grams</th>                          <td>    0.0059</td> <td>    0.001</td> <td>    4.380</td> <td> 0.002</td> <td>    0.003</td> <td>    0.009</td>\n",
              "</tr>\n",
              "<tr>\n",
              "  <th>I(Weight_gained_grams * Weight_gained_grams)</th> <td>   -0.5370</td> <td>    0.004</td> <td> -128.301</td> <td> 0.000</td> <td>   -0.547</td> <td>   -0.527</td>\n",
              "</tr>\n",
              "</table>\n",
              "<table class=\"simpletable\">\n",
              "<tr>\n",
              "  <th>Omnibus:</th>       <td> 3.003</td> <th>  Durbin-Watson:     </th> <td>   2.469</td>\n",
              "</tr>\n",
              "<tr>\n",
              "  <th>Prob(Omnibus):</th> <td> 0.223</td> <th>  Jarque-Bera (JB):  </th> <td>   1.069</td>\n",
              "</tr>\n",
              "<tr>\n",
              "  <th>Skew:</th>          <td> 0.752</td> <th>  Prob(JB):          </th> <td>   0.586</td>\n",
              "</tr>\n",
              "<tr>\n",
              "  <th>Kurtosis:</th>      <td> 3.264</td> <th>  Cond. No.          </th> <td>    267.</td>\n",
              "</tr>\n",
              "</table><br/><br/>Notes:<br/>[1] Standard Errors assume that the covariance matrix of the errors is correctly specified."
            ]
          },
          "metadata": {},
          "execution_count": 229
        }
      ]
    },
    {
      "cell_type": "markdown",
      "source": [
        "##Prediction on Train Data"
      ],
      "metadata": {
        "id": "cK-n8_rwH6-_"
      }
    },
    {
      "cell_type": "code",
      "source": [
        "train_pred = Finalmodel.predict(pd.DataFrame(train))\n",
        "train_pred"
      ],
      "metadata": {
        "colab": {
          "base_uri": "https://localhost:8080/"
        },
        "id": "iT9z-NKLIFXD",
        "outputId": "baef9124-1f6a-463c-b32e-3cb0f6f6ad7d"
      },
      "execution_count": 239,
      "outputs": [
        {
          "output_type": "execute_result",
          "data": {
            "text/plain": [
              "11   -0.003083\n",
              "2    -0.033878\n",
              "13   -0.026610\n",
              "9    -0.038195\n",
              "1    -0.003740\n",
              "7    -0.000599\n",
              "10   -0.001787\n",
              "3    -0.004089\n",
              "0    -0.002567\n",
              "5    -0.002342\n",
              "12   -0.008338\n",
              "dtype: float64"
            ]
          },
          "metadata": {},
          "execution_count": 239
        }
      ]
    },
    {
      "cell_type": "code",
      "source": [
        "pred_train_Calories_Consumed = np.exp(train_pred)\n",
        "pred_train_Calories_Consumed"
      ],
      "metadata": {
        "colab": {
          "base_uri": "https://localhost:8080/"
        },
        "id": "9nLYhb3AIM7h",
        "outputId": "5052feb7-e90e-43c8-d49e-132272c75b5a"
      },
      "execution_count": 240,
      "outputs": [
        {
          "output_type": "execute_result",
          "data": {
            "text/plain": [
              "11    0.996922\n",
              "2     0.966690\n",
              "13    0.973741\n",
              "9     0.962525\n",
              "1     0.996267\n",
              "7     0.999401\n",
              "10    0.998215\n",
              "3     0.995920\n",
              "0     0.997437\n",
              "5     0.997660\n",
              "12    0.991697\n",
              "dtype: float64"
            ]
          },
          "metadata": {},
          "execution_count": 240
        }
      ]
    },
    {
      "cell_type": "markdown",
      "source": [
        "##Model evaluation on train data"
      ],
      "metadata": {
        "id": "4V0K1w1gIWIC"
      }
    },
    {
      "cell_type": "code",
      "source": [
        "train_res = train.Calories_Consumed - pred_train_Calories_Consumed\n",
        "train_sqrs = train_res * train_res\n",
        "train_mse = np.mean(train_sqrs)\n",
        "train_rmse = np.sqrt(train_mse)\n",
        "train_rmse\n"
      ],
      "metadata": {
        "colab": {
          "base_uri": "https://localhost:8080/"
        },
        "id": "SXkFXkKvIads",
        "outputId": "1b4ad82a-81c3-4fb9-bd20-ebf97b253d6d"
      },
      "execution_count": 241,
      "outputs": [
        {
          "output_type": "execute_result",
          "data": {
            "text/plain": [
              "4.583299126964495e-05"
            ]
          },
          "metadata": {},
          "execution_count": 241
        }
      ]
    },
    {
      "cell_type": "markdown",
      "source": [
        "##Prediction On Test Data"
      ],
      "metadata": {
        "id": "QRHTPlKPGLag"
      }
    },
    {
      "cell_type": "code",
      "source": [
        "test_pred=Finalmodel.predict(pd.DataFrame(test))\n",
        "test_pred"
      ],
      "metadata": {
        "colab": {
          "base_uri": "https://localhost:8080/"
        },
        "id": "zBvW-6cQGHNE",
        "outputId": "b93e03ec-7757-4c89-ec9e-1e3c74e1eb87"
      },
      "execution_count": 231,
      "outputs": [
        {
          "output_type": "execute_result",
          "data": {
            "text/plain": [
              "8   -0.022563\n",
              "6   -0.004136\n",
              "4   -0.007142\n",
              "dtype: float64"
            ]
          },
          "metadata": {},
          "execution_count": 231
        }
      ]
    },
    {
      "cell_type": "code",
      "source": [
        "pred_test_Calories_consumed = np.exp(test_pred)\n",
        "pred_test_Calories_consumed"
      ],
      "metadata": {
        "colab": {
          "base_uri": "https://localhost:8080/"
        },
        "id": "9pzWy5CgGjv0",
        "outputId": "b5c31a0d-3ba8-4c4c-8721-85ff704fab3e"
      },
      "execution_count": 232,
      "outputs": [
        {
          "output_type": "execute_result",
          "data": {
            "text/plain": [
              "8    0.977690\n",
              "6    0.995873\n",
              "4    0.992884\n",
              "dtype: float64"
            ]
          },
          "metadata": {},
          "execution_count": 232
        }
      ]
    },
    {
      "cell_type": "markdown",
      "source": [
        "#Model evaluation Test data"
      ],
      "metadata": {
        "id": "MQQBtt2PGxmB"
      }
    },
    {
      "cell_type": "code",
      "source": [
        "test_res = test.Calories_Consumed- pred_test_Calories_consumed\n",
        "test_sqrs = test_res * test_res\n",
        "test_mse = np.mean(test_sqrs)\n",
        "test_rmse = np.sqrt(test_mse)\n",
        "test_rmse"
      ],
      "metadata": {
        "colab": {
          "base_uri": "https://localhost:8080/"
        },
        "id": "78ipNBtsGwmS",
        "outputId": "dc0ad4b8-81fb-4017-88d1-af9ee53beab6"
      },
      "execution_count": 238,
      "outputs": [
        {
          "output_type": "execute_result",
          "data": {
            "text/plain": [
              "6.684494758662211e-05"
            ]
          },
          "metadata": {},
          "execution_count": 238
        }
      ]
    },
    {
      "cell_type": "code",
      "source": [],
      "metadata": {
        "id": "a6SsRV48JXw3"
      },
      "execution_count": 248,
      "outputs": []
    },
    {
      "cell_type": "code",
      "source": [],
      "metadata": {
        "id": "yjPLWhyiH5wZ"
      },
      "execution_count": 248,
      "outputs": []
    }
  ]
}